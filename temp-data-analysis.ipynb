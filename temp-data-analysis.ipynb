{
 "cells": [
  {
   "cell_type": "markdown",
   "id": "4ba56b18",
   "metadata": {},
   "source": [
    "Data source: [National Center for Environmental Information](https://www.ncei.noaa.gov/access/past-weather/san%20francisco)"
   ]
  },
  {
   "cell_type": "code",
   "execution_count": 1,
   "id": "6da787bd",
   "metadata": {},
   "outputs": [],
   "source": [
    "import pandas as pd"
   ]
  },
  {
   "cell_type": "code",
   "execution_count": 2,
   "id": "50ed7fc4",
   "metadata": {},
   "outputs": [],
   "source": [
    "df = pd.read_csv(\"data.csv\")"
   ]
  },
  {
   "cell_type": "code",
   "execution_count": 3,
   "id": "3332be9f",
   "metadata": {},
   "outputs": [
    {
     "data": {
      "text/html": [
       "<div>\n",
       "<style scoped>\n",
       "    .dataframe tbody tr th:only-of-type {\n",
       "        vertical-align: middle;\n",
       "    }\n",
       "\n",
       "    .dataframe tbody tr th {\n",
       "        vertical-align: top;\n",
       "    }\n",
       "\n",
       "    .dataframe thead th {\n",
       "        text-align: right;\n",
       "    }\n",
       "</style>\n",
       "<table border=\"1\" class=\"dataframe\">\n",
       "  <thead>\n",
       "    <tr style=\"text-align: right;\">\n",
       "      <th></th>\n",
       "      <th>date</th>\n",
       "      <th>average</th>\n",
       "      <th>max</th>\n",
       "      <th>min</th>\n",
       "      <th>prcp</th>\n",
       "      <th>snow</th>\n",
       "      <th>snwd</th>\n",
       "    </tr>\n",
       "  </thead>\n",
       "  <tbody>\n",
       "    <tr>\n",
       "      <th>0</th>\n",
       "      <td>1921-01-01</td>\n",
       "      <td>NaN</td>\n",
       "      <td>60.0</td>\n",
       "      <td>45.0</td>\n",
       "      <td>0.00</td>\n",
       "      <td>0.0</td>\n",
       "      <td>NaN</td>\n",
       "    </tr>\n",
       "    <tr>\n",
       "      <th>1</th>\n",
       "      <td>1921-01-02</td>\n",
       "      <td>NaN</td>\n",
       "      <td>54.0</td>\n",
       "      <td>46.0</td>\n",
       "      <td>0.00</td>\n",
       "      <td>0.0</td>\n",
       "      <td>NaN</td>\n",
       "    </tr>\n",
       "    <tr>\n",
       "      <th>2</th>\n",
       "      <td>1921-01-03</td>\n",
       "      <td>NaN</td>\n",
       "      <td>60.0</td>\n",
       "      <td>50.0</td>\n",
       "      <td>0.00</td>\n",
       "      <td>0.0</td>\n",
       "      <td>NaN</td>\n",
       "    </tr>\n",
       "    <tr>\n",
       "      <th>3</th>\n",
       "      <td>1921-01-04</td>\n",
       "      <td>NaN</td>\n",
       "      <td>61.0</td>\n",
       "      <td>47.0</td>\n",
       "      <td>0.00</td>\n",
       "      <td>0.0</td>\n",
       "      <td>NaN</td>\n",
       "    </tr>\n",
       "    <tr>\n",
       "      <th>4</th>\n",
       "      <td>1921-01-05</td>\n",
       "      <td>NaN</td>\n",
       "      <td>54.0</td>\n",
       "      <td>47.0</td>\n",
       "      <td>0.38</td>\n",
       "      <td>0.0</td>\n",
       "      <td>NaN</td>\n",
       "    </tr>\n",
       "  </tbody>\n",
       "</table>\n",
       "</div>"
      ],
      "text/plain": [
       "         date  average   max   min  prcp  snow  snwd\n",
       "0  1921-01-01      NaN  60.0  45.0  0.00   0.0   NaN\n",
       "1  1921-01-02      NaN  54.0  46.0  0.00   0.0   NaN\n",
       "2  1921-01-03      NaN  60.0  50.0  0.00   0.0   NaN\n",
       "3  1921-01-04      NaN  61.0  47.0  0.00   0.0   NaN\n",
       "4  1921-01-05      NaN  54.0  47.0  0.38   0.0   NaN"
      ]
     },
     "execution_count": 3,
     "metadata": {},
     "output_type": "execute_result"
    }
   ],
   "source": [
    "df.head()"
   ]
  },
  {
   "cell_type": "code",
   "execution_count": 4,
   "id": "b6a12a26",
   "metadata": {},
   "outputs": [],
   "source": [
    "df = df.drop(columns=['average', 'prcp', 'snow', 'snwd'])"
   ]
  },
  {
   "cell_type": "markdown",
   "id": "5a93e361",
   "metadata": {},
   "source": [
    "2022 updated data from [National Weather Service](https://www.weather.gov/wrh/climate?wfo=mtr)"
   ]
  },
  {
   "cell_type": "code",
   "execution_count": 5,
   "id": "4ae65bf1",
   "metadata": {},
   "outputs": [],
   "source": [
    "new_data_2022 = {'date':['2022-09-01', '2022-09-02','2022-09-03', '2022-09-04', '2022-09-05','2022-09-06','2022-09-07','2022-09-08','2022-09-09','2022-09-10','2022-09-11'],\n",
    "        'max':[66,68,75,82,91,98,81,87,71,68,69],\n",
    "        'min':[54,54,57,57,61,64,62,62,57,59,61]\n",
    "       }\n",
    "df2022 = pd.DataFrame(new_data_2022)"
   ]
  },
  {
   "cell_type": "markdown",
   "id": "77a758bb",
   "metadata": {},
   "source": [
    "2020 and 2021 data from [NOAA Station Data](https://www.ncdc.noaa.gov/cdo-web/datasets/GHCND/stations/GHCND:USW00023272/detail)"
   ]
  },
  {
   "cell_type": "code",
   "execution_count": 6,
   "id": "b58e2acd",
   "metadata": {},
   "outputs": [],
   "source": [
    "new_data_2021 = {'date':['2021-09-01', '2021-09-02','2021-09-03', '2021-09-04', '2021-09-05','2021-09-06','2021-09-07','2021-09-08','2021-09-09','2021-09-10','2021-09-11'],\n",
    "        'max':[64,66,61,66,68,77,66,70,64,63,66],\n",
    "        'min':[56,56,54,53,52,54,57,59,57,57,57]\n",
    "       }\n",
    "df2021 = pd.DataFrame(new_data_2021)"
   ]
  },
  {
   "cell_type": "code",
   "execution_count": 7,
   "id": "91065b86",
   "metadata": {},
   "outputs": [],
   "source": [
    "new_data_2020 = {'date':['2020-09-01', '2020-09-02','2020-09-03', '2020-09-04', '2020-09-05','2020-09-06','2020-09-07','2020-09-08','2020-09-09','2020-09-10','2020-09-11'],\n",
    "        'max':[65,66,64,69,89,100,91,71,60,64,71],\n",
    "        'min':[56,58,56,55,58,71,62,57,57,57,54]\n",
    "       }\n",
    "df2020 = pd.DataFrame(new_data_2020)"
   ]
  },
  {
   "cell_type": "code",
   "execution_count": 9,
   "id": "0e5e3f06",
   "metadata": {},
   "outputs": [],
   "source": [
    "df_update = pd.concat([df,df2020,df2021,df2022],ignore_index=True)\n",
    "df_update['gap'] = df_update['max'] - df_update['min']"
   ]
  },
  {
   "cell_type": "code",
   "execution_count": 10,
   "id": "34fb9ec7",
   "metadata": {},
   "outputs": [],
   "source": [
    "df_update['date'] = pd.to_datetime(df_update.date, format='%Y-%m-%d', errors='coerce')"
   ]
  },
  {
   "cell_type": "code",
   "execution_count": 11,
   "id": "0927a6bb",
   "metadata": {},
   "outputs": [],
   "source": [
    "df_update.set_index('date', inplace=True)"
   ]
  },
  {
   "cell_type": "code",
   "execution_count": 12,
   "id": "ec3e23ac",
   "metadata": {},
   "outputs": [
    {
     "data": {
      "text/html": [
       "<div>\n",
       "<style scoped>\n",
       "    .dataframe tbody tr th:only-of-type {\n",
       "        vertical-align: middle;\n",
       "    }\n",
       "\n",
       "    .dataframe tbody tr th {\n",
       "        vertical-align: top;\n",
       "    }\n",
       "\n",
       "    .dataframe thead th {\n",
       "        text-align: right;\n",
       "    }\n",
       "</style>\n",
       "<table border=\"1\" class=\"dataframe\">\n",
       "  <thead>\n",
       "    <tr style=\"text-align: right;\">\n",
       "      <th></th>\n",
       "      <th>max</th>\n",
       "      <th>min</th>\n",
       "      <th>gap</th>\n",
       "    </tr>\n",
       "    <tr>\n",
       "      <th>date</th>\n",
       "      <th></th>\n",
       "      <th></th>\n",
       "      <th></th>\n",
       "    </tr>\n",
       "  </thead>\n",
       "  <tbody>\n",
       "    <tr>\n",
       "      <th>1921-01-01</th>\n",
       "      <td>60.0</td>\n",
       "      <td>45.0</td>\n",
       "      <td>15.0</td>\n",
       "    </tr>\n",
       "    <tr>\n",
       "      <th>1921-01-02</th>\n",
       "      <td>54.0</td>\n",
       "      <td>46.0</td>\n",
       "      <td>8.0</td>\n",
       "    </tr>\n",
       "    <tr>\n",
       "      <th>1921-01-03</th>\n",
       "      <td>60.0</td>\n",
       "      <td>50.0</td>\n",
       "      <td>10.0</td>\n",
       "    </tr>\n",
       "    <tr>\n",
       "      <th>1921-01-04</th>\n",
       "      <td>61.0</td>\n",
       "      <td>47.0</td>\n",
       "      <td>14.0</td>\n",
       "    </tr>\n",
       "    <tr>\n",
       "      <th>1921-01-05</th>\n",
       "      <td>54.0</td>\n",
       "      <td>47.0</td>\n",
       "      <td>7.0</td>\n",
       "    </tr>\n",
       "  </tbody>\n",
       "</table>\n",
       "</div>"
      ],
      "text/plain": [
       "             max   min   gap\n",
       "date                        \n",
       "1921-01-01  60.0  45.0  15.0\n",
       "1921-01-02  54.0  46.0   8.0\n",
       "1921-01-03  60.0  50.0  10.0\n",
       "1921-01-04  61.0  47.0  14.0\n",
       "1921-01-05  54.0  47.0   7.0"
      ]
     },
     "execution_count": 12,
     "metadata": {},
     "output_type": "execute_result"
    }
   ],
   "source": [
    "df_update.head()"
   ]
  },
  {
   "cell_type": "markdown",
   "id": "848952ed",
   "metadata": {},
   "source": [
    "## filter out all the 0901-0911 data"
   ]
  },
  {
   "cell_type": "code",
   "execution_count": 29,
   "id": "e952e545",
   "metadata": {},
   "outputs": [],
   "source": [
    "df_sept = df_update[df_update.index.month.isin([9])&df_update.index.day.isin([1,2,3,4,5,6,7,8,9,10,11])].sort_index(ascending=True).reset_index()"
   ]
  },
  {
   "cell_type": "code",
   "execution_count": 38,
   "id": "ac10a4bd",
   "metadata": {},
   "outputs": [
    {
     "data": {
      "image/png": "[encoded data removed]",
      "text/plain": [
       "<Figure size 864x216 with 1 Axes>"
      ]
     },
     "metadata": {
      "needs_background": "light"
     },
     "output_type": "display_data"
    }
   ],
   "source": [
    "fig1 = df_sept.resample('Y', on='date')['max'].mean().plot(figsize=(12,3)).figure\n",
    "fig1.savefig('fig1.pdf')"
   ]
  },
  {
   "cell_type": "code",
   "execution_count": 40,
   "id": "3d5ff363",
   "metadata": {},
   "outputs": [
    {
     "data": {
      "image/png": "[encoded data removed]",
      "text/plain": [
       "<Figure size 864x216 with 1 Axes>"
      ]
     },
     "metadata": {
      "needs_background": "light"
     },
     "output_type": "display_data"
    }
   ],
   "source": [
    "fig2 = df_sept.resample('Y', on='date')['min'].mean().plot(figsize=(12,3)).figure\n",
    "fig2.savefig('fig2.pdf')"
   ]
  },
  {
   "cell_type": "code",
   "execution_count": 34,
   "id": "37ea41da",
   "metadata": {},
   "outputs": [
    {
     "data": {
      "text/plain": [
       "<AxesSubplot:xlabel='date'>"
      ]
     },
     "execution_count": 34,
     "metadata": {},
     "output_type": "execute_result"
    },
    {
     "data": {
      "image/png": "[encoded data removed]",
      "text/plain": [
       "<Figure size 864x216 with 1 Axes>"
      ]
     },
     "metadata": {
      "needs_background": "light"
     },
     "output_type": "display_data"
    }
   ],
   "source": [
    "df_sept.resample('Y', on='date')['gap'].mean().plot(figsize=(12,3))"
   ]
  },
  {
   "cell_type": "code",
   "execution_count": 17,
   "id": "2a5d6afd",
   "metadata": {},
   "outputs": [
    {
     "data": {
      "text/plain": [
       "<AxesSubplot:xlabel='date'>"
      ]
     },
     "execution_count": 17,
     "metadata": {},
     "output_type": "execute_result"
    },
    {
     "data": {
      "image/png": "[encoded data removed]",
      "text/plain": [
       "<Figure size 432x288 with 1 Axes>"
      ]
     },
     "metadata": {
      "needs_background": "light"
     },
     "output_type": "display_data"
    }
   ],
   "source": [
    "df_sept[df_sept.date.dt.year > 2000].resample('Y', on='date')['max'].mean().plot()"
   ]
  },
  {
   "cell_type": "code",
   "execution_count": 18,
   "id": "d211e8ea",
   "metadata": {},
   "outputs": [
    {
     "data": {
      "text/plain": [
       "<AxesSubplot:xlabel='date'>"
      ]
     },
     "execution_count": 18,
     "metadata": {},
     "output_type": "execute_result"
    },
    {
     "data": {
      "image/png": "[encoded data removed]",
      "text/plain": [
       "<Figure size 432x288 with 1 Axes>"
      ]
     },
     "metadata": {
      "needs_background": "light"
     },
     "output_type": "display_data"
    }
   ],
   "source": [
    "df_sept[df_sept.date.dt.year > 2000].resample('Y', on='date')['min'].mean().plot()"
   ]
  },
  {
   "cell_type": "code",
   "execution_count": 19,
   "id": "1431b0b2",
   "metadata": {},
   "outputs": [
    {
     "data": {
      "text/plain": [
       "<AxesSubplot:xlabel='date'>"
      ]
     },
     "execution_count": 19,
     "metadata": {},
     "output_type": "execute_result"
    },
    {
     "data": {
      "image/png": "[encoded data removed]",
      "text/plain": [
       "<Figure size 432x288 with 1 Axes>"
      ]
     },
     "metadata": {
      "needs_background": "light"
     },
     "output_type": "display_data"
    }
   ],
   "source": [
    "df_sept[df_sept.date.dt.year > 2000].resample('Y', on='date')['gap'].mean().plot()"
   ]
  },
  {
   "cell_type": "markdown",
   "id": "83a2c6a6",
   "metadata": {},
   "source": [
    "## Group by year"
   ]
  },
  {
   "cell_type": "code",
   "execution_count": 20,
   "id": "d027e52d",
   "metadata": {},
   "outputs": [],
   "source": [
    "df_sept.set_index('date', inplace=True)"
   ]
  },
  {
   "cell_type": "code",
   "execution_count": 22,
   "id": "d8e5f8bf",
   "metadata": {},
   "outputs": [],
   "source": [
    "rank = df_sept.groupby(by=[df_sept.index.year]).mean().reset_index()"
   ]
  },
  {
   "cell_type": "code",
   "execution_count": 23,
   "id": "21be6037",
   "metadata": {},
   "outputs": [
    {
     "data": {
      "text/html": [
       "<div>\n",
       "<style scoped>\n",
       "    .dataframe tbody tr th:only-of-type {\n",
       "        vertical-align: middle;\n",
       "    }\n",
       "\n",
       "    .dataframe tbody tr th {\n",
       "        vertical-align: top;\n",
       "    }\n",
       "\n",
       "    .dataframe thead th {\n",
       "        text-align: right;\n",
       "    }\n",
       "</style>\n",
       "<table border=\"1\" class=\"dataframe\">\n",
       "  <thead>\n",
       "    <tr style=\"text-align: right;\">\n",
       "      <th></th>\n",
       "      <th>date</th>\n",
       "      <th>max</th>\n",
       "      <th>min</th>\n",
       "      <th>gap</th>\n",
       "    </tr>\n",
       "  </thead>\n",
       "  <tbody>\n",
       "    <tr>\n",
       "      <th>96</th>\n",
       "      <td>2017</td>\n",
       "      <td>82.727273</td>\n",
       "      <td>63.636364</td>\n",
       "      <td>19.090909</td>\n",
       "    </tr>\n",
       "    <tr>\n",
       "      <th>63</th>\n",
       "      <td>1984</td>\n",
       "      <td>82.000000</td>\n",
       "      <td>57.727273</td>\n",
       "      <td>24.272727</td>\n",
       "    </tr>\n",
       "    <tr>\n",
       "      <th>83</th>\n",
       "      <td>2004</td>\n",
       "      <td>79.545455</td>\n",
       "      <td>60.000000</td>\n",
       "      <td>19.545455</td>\n",
       "    </tr>\n",
       "    <tr>\n",
       "      <th>62</th>\n",
       "      <td>1983</td>\n",
       "      <td>78.727273</td>\n",
       "      <td>57.636364</td>\n",
       "      <td>21.090909</td>\n",
       "    </tr>\n",
       "    <tr>\n",
       "      <th>101</th>\n",
       "      <td>2022</td>\n",
       "      <td>77.818182</td>\n",
       "      <td>58.909091</td>\n",
       "      <td>18.909091</td>\n",
       "    </tr>\n",
       "    <tr>\n",
       "      <th>94</th>\n",
       "      <td>2015</td>\n",
       "      <td>77.454545</td>\n",
       "      <td>58.363636</td>\n",
       "      <td>19.090909</td>\n",
       "    </tr>\n",
       "    <tr>\n",
       "      <th>58</th>\n",
       "      <td>1979</td>\n",
       "      <td>76.909091</td>\n",
       "      <td>61.363636</td>\n",
       "      <td>15.545455</td>\n",
       "    </tr>\n",
       "    <tr>\n",
       "      <th>11</th>\n",
       "      <td>1932</td>\n",
       "      <td>76.909091</td>\n",
       "      <td>55.727273</td>\n",
       "      <td>21.181818</td>\n",
       "    </tr>\n",
       "    <tr>\n",
       "      <th>87</th>\n",
       "      <td>2008</td>\n",
       "      <td>76.090909</td>\n",
       "      <td>57.000000</td>\n",
       "      <td>19.090909</td>\n",
       "    </tr>\n",
       "    <tr>\n",
       "      <th>1</th>\n",
       "      <td>1922</td>\n",
       "      <td>74.363636</td>\n",
       "      <td>56.454545</td>\n",
       "      <td>17.909091</td>\n",
       "    </tr>\n",
       "  </tbody>\n",
       "</table>\n",
       "</div>"
      ],
      "text/plain": [
       "     date        max        min        gap\n",
       "96   2017  82.727273  63.636364  19.090909\n",
       "63   1984  82.000000  57.727273  24.272727\n",
       "83   2004  79.545455  60.000000  19.545455\n",
       "62   1983  78.727273  57.636364  21.090909\n",
       "101  2022  77.818182  58.909091  18.909091\n",
       "94   2015  77.454545  58.363636  19.090909\n",
       "58   1979  76.909091  61.363636  15.545455\n",
       "11   1932  76.909091  55.727273  21.181818\n",
       "87   2008  76.090909  57.000000  19.090909\n",
       "1    1922  74.363636  56.454545  17.909091"
      ]
     },
     "execution_count": 23,
     "metadata": {},
     "output_type": "execute_result"
    }
   ],
   "source": [
    "rank.sort_values(by='max',ascending=False).head(10)"
   ]
  },
  {
   "cell_type": "code",
   "execution_count": 24,
   "id": "1c109b0d",
   "metadata": {},
   "outputs": [
    {
     "data": {
      "text/html": [
       "<div>\n",
       "<style scoped>\n",
       "    .dataframe tbody tr th:only-of-type {\n",
       "        vertical-align: middle;\n",
       "    }\n",
       "\n",
       "    .dataframe tbody tr th {\n",
       "        vertical-align: top;\n",
       "    }\n",
       "\n",
       "    .dataframe thead th {\n",
       "        text-align: right;\n",
       "    }\n",
       "</style>\n",
       "<table border=\"1\" class=\"dataframe\">\n",
       "  <thead>\n",
       "    <tr style=\"text-align: right;\">\n",
       "      <th></th>\n",
       "      <th>date</th>\n",
       "      <th>max</th>\n",
       "      <th>min</th>\n",
       "      <th>gap</th>\n",
       "    </tr>\n",
       "  </thead>\n",
       "  <tbody>\n",
       "    <tr>\n",
       "      <th>96</th>\n",
       "      <td>2017</td>\n",
       "      <td>82.727273</td>\n",
       "      <td>63.636364</td>\n",
       "      <td>19.090909</td>\n",
       "    </tr>\n",
       "    <tr>\n",
       "      <th>58</th>\n",
       "      <td>1979</td>\n",
       "      <td>76.909091</td>\n",
       "      <td>61.363636</td>\n",
       "      <td>15.545455</td>\n",
       "    </tr>\n",
       "    <tr>\n",
       "      <th>83</th>\n",
       "      <td>2004</td>\n",
       "      <td>79.545455</td>\n",
       "      <td>60.000000</td>\n",
       "      <td>19.545455</td>\n",
       "    </tr>\n",
       "    <tr>\n",
       "      <th>76</th>\n",
       "      <td>1997</td>\n",
       "      <td>74.181818</td>\n",
       "      <td>59.727273</td>\n",
       "      <td>14.454545</td>\n",
       "    </tr>\n",
       "    <tr>\n",
       "      <th>101</th>\n",
       "      <td>2022</td>\n",
       "      <td>77.818182</td>\n",
       "      <td>58.909091</td>\n",
       "      <td>18.909091</td>\n",
       "    </tr>\n",
       "    <tr>\n",
       "      <th>37</th>\n",
       "      <td>1958</td>\n",
       "      <td>72.454545</td>\n",
       "      <td>58.909091</td>\n",
       "      <td>13.545455</td>\n",
       "    </tr>\n",
       "    <tr>\n",
       "      <th>47</th>\n",
       "      <td>1968</td>\n",
       "      <td>65.727273</td>\n",
       "      <td>58.818182</td>\n",
       "      <td>6.909091</td>\n",
       "    </tr>\n",
       "    <tr>\n",
       "      <th>64</th>\n",
       "      <td>1985</td>\n",
       "      <td>68.727273</td>\n",
       "      <td>58.636364</td>\n",
       "      <td>10.090909</td>\n",
       "    </tr>\n",
       "    <tr>\n",
       "      <th>20</th>\n",
       "      <td>1941</td>\n",
       "      <td>70.818182</td>\n",
       "      <td>58.545455</td>\n",
       "      <td>12.272727</td>\n",
       "    </tr>\n",
       "    <tr>\n",
       "      <th>94</th>\n",
       "      <td>2015</td>\n",
       "      <td>77.454545</td>\n",
       "      <td>58.363636</td>\n",
       "      <td>19.090909</td>\n",
       "    </tr>\n",
       "  </tbody>\n",
       "</table>\n",
       "</div>"
      ],
      "text/plain": [
       "     date        max        min        gap\n",
       "96   2017  82.727273  63.636364  19.090909\n",
       "58   1979  76.909091  61.363636  15.545455\n",
       "83   2004  79.545455  60.000000  19.545455\n",
       "76   1997  74.181818  59.727273  14.454545\n",
       "101  2022  77.818182  58.909091  18.909091\n",
       "37   1958  72.454545  58.909091  13.545455\n",
       "47   1968  65.727273  58.818182   6.909091\n",
       "64   1985  68.727273  58.636364  10.090909\n",
       "20   1941  70.818182  58.545455  12.272727\n",
       "94   2015  77.454545  58.363636  19.090909"
      ]
     },
     "execution_count": 24,
     "metadata": {},
     "output_type": "execute_result"
    }
   ],
   "source": [
    "rank.sort_values(by='min',ascending=False).head(10)"
   ]
  },
  {
   "cell_type": "code",
   "execution_count": 25,
   "id": "72ef5759",
   "metadata": {},
   "outputs": [
    {
     "data": {
      "text/html": [
       "<div>\n",
       "<style scoped>\n",
       "    .dataframe tbody tr th:only-of-type {\n",
       "        vertical-align: middle;\n",
       "    }\n",
       "\n",
       "    .dataframe tbody tr th {\n",
       "        vertical-align: top;\n",
       "    }\n",
       "\n",
       "    .dataframe thead th {\n",
       "        text-align: right;\n",
       "    }\n",
       "</style>\n",
       "<table border=\"1\" class=\"dataframe\">\n",
       "  <thead>\n",
       "    <tr style=\"text-align: right;\">\n",
       "      <th></th>\n",
       "      <th>date</th>\n",
       "      <th>max</th>\n",
       "      <th>min</th>\n",
       "      <th>gap</th>\n",
       "    </tr>\n",
       "  </thead>\n",
       "  <tbody>\n",
       "    <tr>\n",
       "      <th>63</th>\n",
       "      <td>1984</td>\n",
       "      <td>82.000000</td>\n",
       "      <td>57.727273</td>\n",
       "      <td>24.272727</td>\n",
       "    </tr>\n",
       "    <tr>\n",
       "      <th>11</th>\n",
       "      <td>1932</td>\n",
       "      <td>76.909091</td>\n",
       "      <td>55.727273</td>\n",
       "      <td>21.181818</td>\n",
       "    </tr>\n",
       "    <tr>\n",
       "      <th>62</th>\n",
       "      <td>1983</td>\n",
       "      <td>78.727273</td>\n",
       "      <td>57.636364</td>\n",
       "      <td>21.090909</td>\n",
       "    </tr>\n",
       "    <tr>\n",
       "      <th>83</th>\n",
       "      <td>2004</td>\n",
       "      <td>79.545455</td>\n",
       "      <td>60.000000</td>\n",
       "      <td>19.545455</td>\n",
       "    </tr>\n",
       "    <tr>\n",
       "      <th>96</th>\n",
       "      <td>2017</td>\n",
       "      <td>82.727273</td>\n",
       "      <td>63.636364</td>\n",
       "      <td>19.090909</td>\n",
       "    </tr>\n",
       "    <tr>\n",
       "      <th>94</th>\n",
       "      <td>2015</td>\n",
       "      <td>77.454545</td>\n",
       "      <td>58.363636</td>\n",
       "      <td>19.090909</td>\n",
       "    </tr>\n",
       "    <tr>\n",
       "      <th>87</th>\n",
       "      <td>2008</td>\n",
       "      <td>76.090909</td>\n",
       "      <td>57.000000</td>\n",
       "      <td>19.090909</td>\n",
       "    </tr>\n",
       "    <tr>\n",
       "      <th>101</th>\n",
       "      <td>2022</td>\n",
       "      <td>77.818182</td>\n",
       "      <td>58.909091</td>\n",
       "      <td>18.909091</td>\n",
       "    </tr>\n",
       "    <tr>\n",
       "      <th>34</th>\n",
       "      <td>1955</td>\n",
       "      <td>71.818182</td>\n",
       "      <td>53.181818</td>\n",
       "      <td>18.636364</td>\n",
       "    </tr>\n",
       "    <tr>\n",
       "      <th>75</th>\n",
       "      <td>1996</td>\n",
       "      <td>74.090909</td>\n",
       "      <td>55.454545</td>\n",
       "      <td>18.636364</td>\n",
       "    </tr>\n",
       "  </tbody>\n",
       "</table>\n",
       "</div>"
      ],
      "text/plain": [
       "     date        max        min        gap\n",
       "63   1984  82.000000  57.727273  24.272727\n",
       "11   1932  76.909091  55.727273  21.181818\n",
       "62   1983  78.727273  57.636364  21.090909\n",
       "83   2004  79.545455  60.000000  19.545455\n",
       "96   2017  82.727273  63.636364  19.090909\n",
       "94   2015  77.454545  58.363636  19.090909\n",
       "87   2008  76.090909  57.000000  19.090909\n",
       "101  2022  77.818182  58.909091  18.909091\n",
       "34   1955  71.818182  53.181818  18.636364\n",
       "75   1996  74.090909  55.454545  18.636364"
      ]
     },
     "execution_count": 25,
     "metadata": {},
     "output_type": "execute_result"
    }
   ],
   "source": [
    "rank.sort_values(by='gap',ascending=False).head(10)"
   ]
  },
  {
   "cell_type": "markdown",
   "id": "1b37689a",
   "metadata": {},
   "source": [
    "## Look at the day"
   ]
  },
  {
   "cell_type": "code",
   "execution_count": 26,
   "id": "fa9a2786",
   "metadata": {},
   "outputs": [
    {
     "data": {
      "text/html": [
       "<div>\n",
       "<style scoped>\n",
       "    .dataframe tbody tr th:only-of-type {\n",
       "        vertical-align: middle;\n",
       "    }\n",
       "\n",
       "    .dataframe tbody tr th {\n",
       "        vertical-align: top;\n",
       "    }\n",
       "\n",
       "    .dataframe thead th {\n",
       "        text-align: right;\n",
       "    }\n",
       "</style>\n",
       "<table border=\"1\" class=\"dataframe\">\n",
       "  <thead>\n",
       "    <tr style=\"text-align: right;\">\n",
       "      <th></th>\n",
       "      <th>max</th>\n",
       "      <th>min</th>\n",
       "      <th>gap</th>\n",
       "    </tr>\n",
       "    <tr>\n",
       "      <th>date</th>\n",
       "      <th></th>\n",
       "      <th></th>\n",
       "      <th></th>\n",
       "    </tr>\n",
       "  </thead>\n",
       "  <tbody>\n",
       "    <tr>\n",
       "      <th>2017-09-01</th>\n",
       "      <td>106.0</td>\n",
       "      <td>69.0</td>\n",
       "      <td>37.0</td>\n",
       "    </tr>\n",
       "    <tr>\n",
       "      <th>2017-09-02</th>\n",
       "      <td>102.0</td>\n",
       "      <td>75.0</td>\n",
       "      <td>27.0</td>\n",
       "    </tr>\n",
       "    <tr>\n",
       "      <th>2020-09-06</th>\n",
       "      <td>100.0</td>\n",
       "      <td>71.0</td>\n",
       "      <td>29.0</td>\n",
       "    </tr>\n",
       "    <tr>\n",
       "      <th>1984-09-08</th>\n",
       "      <td>100.0</td>\n",
       "      <td>64.0</td>\n",
       "      <td>36.0</td>\n",
       "    </tr>\n",
       "    <tr>\n",
       "      <th>1932-09-09</th>\n",
       "      <td>100.0</td>\n",
       "      <td>60.0</td>\n",
       "      <td>40.0</td>\n",
       "    </tr>\n",
       "    <tr>\n",
       "      <th>1979-09-11</th>\n",
       "      <td>98.0</td>\n",
       "      <td>67.0</td>\n",
       "      <td>31.0</td>\n",
       "    </tr>\n",
       "    <tr>\n",
       "      <th>2022-09-06</th>\n",
       "      <td>98.0</td>\n",
       "      <td>64.0</td>\n",
       "      <td>34.0</td>\n",
       "    </tr>\n",
       "    <tr>\n",
       "      <th>2004-09-05</th>\n",
       "      <td>96.0</td>\n",
       "      <td>62.0</td>\n",
       "      <td>34.0</td>\n",
       "    </tr>\n",
       "    <tr>\n",
       "      <th>2015-09-08</th>\n",
       "      <td>95.0</td>\n",
       "      <td>65.0</td>\n",
       "      <td>30.0</td>\n",
       "    </tr>\n",
       "    <tr>\n",
       "      <th>1984-09-09</th>\n",
       "      <td>94.0</td>\n",
       "      <td>61.0</td>\n",
       "      <td>33.0</td>\n",
       "    </tr>\n",
       "  </tbody>\n",
       "</table>\n",
       "</div>"
      ],
      "text/plain": [
       "              max   min   gap\n",
       "date                         \n",
       "2017-09-01  106.0  69.0  37.0\n",
       "2017-09-02  102.0  75.0  27.0\n",
       "2020-09-06  100.0  71.0  29.0\n",
       "1984-09-08  100.0  64.0  36.0\n",
       "1932-09-09  100.0  60.0  40.0\n",
       "1979-09-11   98.0  67.0  31.0\n",
       "2022-09-06   98.0  64.0  34.0\n",
       "2004-09-05   96.0  62.0  34.0\n",
       "2015-09-08   95.0  65.0  30.0\n",
       "1984-09-09   94.0  61.0  33.0"
      ]
     },
     "execution_count": 26,
     "metadata": {},
     "output_type": "execute_result"
    }
   ],
   "source": [
    "df_sept.sort_values(by='max',ascending=False).head(10)"
   ]
  },
  {
   "cell_type": "markdown",
   "id": "609d519c",
   "metadata": {},
   "source": [
    "## Mission specific"
   ]
  },
  {
   "cell_type": "markdown",
   "id": "d558f75a",
   "metadata": {},
   "source": [
    "The mission data is from [weather underground](https://www.wunderground.com/dashboard/pws/KCASANFR1141/table/2017-09-17/2017-09-17/monthly)"
   ]
  },
  {
   "cell_type": "code",
   "execution_count": 110,
   "id": "372d62a2",
   "metadata": {},
   "outputs": [],
   "source": [
    "df = pd.read_csv(\"mission-temp.csv\")\n",
    "df = df[['date', 'high', 'avg','low']]"
   ]
  },
  {
   "cell_type": "code",
   "execution_count": 111,
   "id": "d3fa4009",
   "metadata": {},
   "outputs": [
    {
     "data": {
      "text/html": [
       "<div>\n",
       "<style scoped>\n",
       "    .dataframe tbody tr th:only-of-type {\n",
       "        vertical-align: middle;\n",
       "    }\n",
       "\n",
       "    .dataframe tbody tr th {\n",
       "        vertical-align: top;\n",
       "    }\n",
       "\n",
       "    .dataframe thead th {\n",
       "        text-align: right;\n",
       "    }\n",
       "</style>\n",
       "<table border=\"1\" class=\"dataframe\">\n",
       "  <thead>\n",
       "    <tr style=\"text-align: right;\">\n",
       "      <th></th>\n",
       "      <th>date</th>\n",
       "      <th>high</th>\n",
       "      <th>avg</th>\n",
       "      <th>low</th>\n",
       "    </tr>\n",
       "  </thead>\n",
       "  <tbody>\n",
       "    <tr>\n",
       "      <th>0</th>\n",
       "      <td>9/1/2022</td>\n",
       "      <td>80.4 °F</td>\n",
       "      <td>65.8 °F</td>\n",
       "      <td>52.0 °F</td>\n",
       "    </tr>\n",
       "    <tr>\n",
       "      <th>1</th>\n",
       "      <td>9/2/2022</td>\n",
       "      <td>85.8 °F</td>\n",
       "      <td>64.6 °F</td>\n",
       "      <td>48.4 °F</td>\n",
       "    </tr>\n",
       "    <tr>\n",
       "      <th>2</th>\n",
       "      <td>9/3/2022</td>\n",
       "      <td>88.9 °F</td>\n",
       "      <td>70.5 °F</td>\n",
       "      <td>52.3 °F</td>\n",
       "    </tr>\n",
       "    <tr>\n",
       "      <th>3</th>\n",
       "      <td>9/4/2022</td>\n",
       "      <td>91.4 °F</td>\n",
       "      <td>76.6 °F</td>\n",
       "      <td>56.1 °F</td>\n",
       "    </tr>\n",
       "    <tr>\n",
       "      <th>4</th>\n",
       "      <td>9/5/2022</td>\n",
       "      <td>98.1 °F</td>\n",
       "      <td>70.4 °F</td>\n",
       "      <td>62.8 °F</td>\n",
       "    </tr>\n",
       "  </tbody>\n",
       "</table>\n",
       "</div>"
      ],
      "text/plain": [
       "       date     high      avg      low\n",
       "0  9/1/2022  80.4 °F  65.8 °F  52.0 °F\n",
       "1  9/2/2022  85.8 °F  64.6 °F  48.4 °F\n",
       "2  9/3/2022  88.9 °F  70.5 °F  52.3 °F\n",
       "3  9/4/2022  91.4 °F  76.6 °F  56.1 °F\n",
       "4  9/5/2022  98.1 °F  70.4 °F  62.8 °F"
      ]
     },
     "execution_count": 111,
     "metadata": {},
     "output_type": "execute_result"
    }
   ],
   "source": [
    "df.head()"
   ]
  },
  {
   "cell_type": "code",
   "execution_count": 112,
   "id": "dd7c376b",
   "metadata": {},
   "outputs": [],
   "source": [
    "df.high = df.high.str.replace('°F','').astype(float)\n",
    "df.avg = df.avg.str.replace('°F','').astype(float)\n",
    "df.low = df.low.str.replace('°F','').astype(float)\n",
    "df['date'] = pd.to_datetime(df.date, format='%m/%d/%Y', errors='coerce')"
   ]
  },
  {
   "cell_type": "code",
   "execution_count": 88,
   "id": "4a0984cd",
   "metadata": {},
   "outputs": [
    {
     "data": {
      "text/html": [
       "<div>\n",
       "<style scoped>\n",
       "    .dataframe tbody tr th:only-of-type {\n",
       "        vertical-align: middle;\n",
       "    }\n",
       "\n",
       "    .dataframe tbody tr th {\n",
       "        vertical-align: top;\n",
       "    }\n",
       "\n",
       "    .dataframe thead th {\n",
       "        text-align: right;\n",
       "    }\n",
       "</style>\n",
       "<table border=\"1\" class=\"dataframe\">\n",
       "  <thead>\n",
       "    <tr style=\"text-align: right;\">\n",
       "      <th></th>\n",
       "      <th>date</th>\n",
       "      <th>high</th>\n",
       "      <th>avg</th>\n",
       "      <th>low</th>\n",
       "    </tr>\n",
       "  </thead>\n",
       "  <tbody>\n",
       "    <tr>\n",
       "      <th>0</th>\n",
       "      <td>2022-09-01</td>\n",
       "      <td>80.4</td>\n",
       "      <td>65.8</td>\n",
       "      <td>52.0</td>\n",
       "    </tr>\n",
       "    <tr>\n",
       "      <th>1</th>\n",
       "      <td>2022-09-02</td>\n",
       "      <td>85.8</td>\n",
       "      <td>64.6</td>\n",
       "      <td>48.4</td>\n",
       "    </tr>\n",
       "    <tr>\n",
       "      <th>2</th>\n",
       "      <td>2022-09-03</td>\n",
       "      <td>88.9</td>\n",
       "      <td>70.5</td>\n",
       "      <td>52.3</td>\n",
       "    </tr>\n",
       "    <tr>\n",
       "      <th>3</th>\n",
       "      <td>2022-09-04</td>\n",
       "      <td>91.4</td>\n",
       "      <td>76.6</td>\n",
       "      <td>56.1</td>\n",
       "    </tr>\n",
       "    <tr>\n",
       "      <th>4</th>\n",
       "      <td>2022-09-05</td>\n",
       "      <td>98.1</td>\n",
       "      <td>70.4</td>\n",
       "      <td>62.8</td>\n",
       "    </tr>\n",
       "  </tbody>\n",
       "</table>\n",
       "</div>"
      ],
      "text/plain": [
       "        date  high   avg   low\n",
       "0 2022-09-01  80.4  65.8  52.0\n",
       "1 2022-09-02  85.8  64.6  48.4\n",
       "2 2022-09-03  88.9  70.5  52.3\n",
       "3 2022-09-04  91.4  76.6  56.1\n",
       "4 2022-09-05  98.1  70.4  62.8"
      ]
     },
     "execution_count": 88,
     "metadata": {},
     "output_type": "execute_result"
    }
   ],
   "source": [
    "df.head()"
   ]
  },
  {
   "cell_type": "code",
   "execution_count": 97,
   "id": "e244d764",
   "metadata": {},
   "outputs": [],
   "source": [
    "df_avg = df[['date','avg']]\n",
    "df_avg['year'] = df_avg.date.dt.year\n",
    "df_avg['day'] = df_avg.date.dt.day\n",
    "mission_avg = pd.pivot(df_avg, index='day', columns='year', values='avg').reset_index()\n",
    "mission_avg.to_csv('clean_mission_avg.csv',index=False)"
   ]
  },
  {
   "cell_type": "code",
   "execution_count": 114,
   "id": "cf0b150a",
   "metadata": {},
   "outputs": [
    {
     "name": "stderr",
     "output_type": "stream",
     "text": [
      "/var/folders/9m/w7ffkstj051dnyjnyklwvwmr0000gn/T/ipykernel_63517/669821569.py:2: SettingWithCopyWarning: \n",
      "A value is trying to be set on a copy of a slice from a DataFrame.\n",
      "Try using .loc[row_indexer,col_indexer] = value instead\n",
      "\n",
      "See the caveats in the documentation: https://pandas.pydata.org/pandas-docs/stable/user_guide/indexing.html#returning-a-view-versus-a-copy\n",
      "  df_max['year'] = df_max.date.dt.year\n"
     ]
    }
   ],
   "source": [
    "df_max = df[['date','high']]\n",
    "df_max['year'] = df_max.date.dt.year\n",
    "df_max['day'] = df_max.date.dt.day\n",
    "mission_max = pd.pivot(df_max, index='day', columns='year', values='high').reset_index()\n",
    "mission_max.to_csv('clean_mission_max.csv',index=False)"
   ]
  },
  {
   "cell_type": "code",
   "execution_count": 91,
   "id": "9fbf50fe",
   "metadata": {},
   "outputs": [],
   "source": [
    "df.to_csv('clean_mission_data.csv',index=False)"
   ]
  }
 ],
 "metadata": {
  "kernelspec": {
   "display_name": "Python 3 (ipykernel)",
   "language": "python",
   "name": "python3"
  },
  "language_info": {
   "codemirror_mode": {
    "name": "ipython",
    "version": 3
   },
   "file_extension": ".py",
   "mimetype": "text/x-python",
   "name": "python",
   "nbconvert_exporter": "python",
   "pygments_lexer": "ipython3",
   "version": "3.9.7"
  }
 },
 "nbformat": 4,
 "nbformat_minor": 5
}
