{
 "cells": [
  {
   "cell_type": "markdown",
   "id": "4ba56b18",
   "metadata": {},
   "source": [
    "Data source: [National Center for Environmental Information](https://www.ncei.noaa.gov/access/past-weather/san%20francisco)"
   ]
  },
  {
   "cell_type": "code",
   "execution_count": 1,
   "id": "6da787bd",
   "metadata": {},
   "outputs": [],
   "source": [
    "import pandas as pd"
   ]
  },
  {
   "cell_type": "code",
   "execution_count": 2,
   "id": "50ed7fc4",
   "metadata": {},
   "outputs": [],
   "source": [
    "df = pd.read_csv(\"data/data.csv\")"
   ]
  },
  {
   "cell_type": "code",
   "execution_count": 3,
   "id": "3332be9f",
   "metadata": {},
   "outputs": [
    {
     "data": {
      "text/html": [
       "<div>\n",
       "<style scoped>\n",
       "    .dataframe tbody tr th:only-of-type {\n",
       "        vertical-align: middle;\n",
       "    }\n",
       "\n",
       "    .dataframe tbody tr th {\n",
       "        vertical-align: top;\n",
       "    }\n",
       "\n",
       "    .dataframe thead th {\n",
       "        text-align: right;\n",
       "    }\n",
       "</style>\n",
       "<table border=\"1\" class=\"dataframe\">\n",
       "  <thead>\n",
       "    <tr style=\"text-align: right;\">\n",
       "      <th></th>\n",
       "      <th>date</th>\n",
       "      <th>average</th>\n",
       "      <th>max</th>\n",
       "      <th>min</th>\n",
       "      <th>prcp</th>\n",
       "      <th>snow</th>\n",
       "      <th>snwd</th>\n",
       "    </tr>\n",
       "  </thead>\n",
       "  <tbody>\n",
       "    <tr>\n",
       "      <th>0</th>\n",
       "      <td>1921-01-01</td>\n",
       "      <td>NaN</td>\n",
       "      <td>60.0</td>\n",
       "      <td>45.0</td>\n",
       "      <td>0.00</td>\n",
       "      <td>0.0</td>\n",
       "      <td>NaN</td>\n",
       "    </tr>\n",
       "    <tr>\n",
       "      <th>1</th>\n",
       "      <td>1921-01-02</td>\n",
       "      <td>NaN</td>\n",
       "      <td>54.0</td>\n",
       "      <td>46.0</td>\n",
       "      <td>0.00</td>\n",
       "      <td>0.0</td>\n",
       "      <td>NaN</td>\n",
       "    </tr>\n",
       "    <tr>\n",
       "      <th>2</th>\n",
       "      <td>1921-01-03</td>\n",
       "      <td>NaN</td>\n",
       "      <td>60.0</td>\n",
       "      <td>50.0</td>\n",
       "      <td>0.00</td>\n",
       "      <td>0.0</td>\n",
       "      <td>NaN</td>\n",
       "    </tr>\n",
       "    <tr>\n",
       "      <th>3</th>\n",
       "      <td>1921-01-04</td>\n",
       "      <td>NaN</td>\n",
       "      <td>61.0</td>\n",
       "      <td>47.0</td>\n",
       "      <td>0.00</td>\n",
       "      <td>0.0</td>\n",
       "      <td>NaN</td>\n",
       "    </tr>\n",
       "    <tr>\n",
       "      <th>4</th>\n",
       "      <td>1921-01-05</td>\n",
       "      <td>NaN</td>\n",
       "      <td>54.0</td>\n",
       "      <td>47.0</td>\n",
       "      <td>0.38</td>\n",
       "      <td>0.0</td>\n",
       "      <td>NaN</td>\n",
       "    </tr>\n",
       "  </tbody>\n",
       "</table>\n",
       "</div>"
      ],
      "text/plain": [
       "         date  average   max   min  prcp  snow  snwd\n",
       "0  1921-01-01      NaN  60.0  45.0  0.00   0.0   NaN\n",
       "1  1921-01-02      NaN  54.0  46.0  0.00   0.0   NaN\n",
       "2  1921-01-03      NaN  60.0  50.0  0.00   0.0   NaN\n",
       "3  1921-01-04      NaN  61.0  47.0  0.00   0.0   NaN\n",
       "4  1921-01-05      NaN  54.0  47.0  0.38   0.0   NaN"
      ]
     },
     "execution_count": 3,
     "metadata": {},
     "output_type": "execute_result"
    }
   ],
   "source": [
    "df.head()"
   ]
  },
  {
   "cell_type": "code",
   "execution_count": 4,
   "id": "24f261f6",
   "metadata": {},
   "outputs": [
    {
     "data": {
      "text/html": [
       "<div>\n",
       "<style scoped>\n",
       "    .dataframe tbody tr th:only-of-type {\n",
       "        vertical-align: middle;\n",
       "    }\n",
       "\n",
       "    .dataframe tbody tr th {\n",
       "        vertical-align: top;\n",
       "    }\n",
       "\n",
       "    .dataframe thead th {\n",
       "        text-align: right;\n",
       "    }\n",
       "</style>\n",
       "<table border=\"1\" class=\"dataframe\">\n",
       "  <thead>\n",
       "    <tr style=\"text-align: right;\">\n",
       "      <th></th>\n",
       "      <th>date</th>\n",
       "      <th>average</th>\n",
       "      <th>max</th>\n",
       "      <th>min</th>\n",
       "      <th>prcp</th>\n",
       "      <th>snow</th>\n",
       "      <th>snwd</th>\n",
       "    </tr>\n",
       "  </thead>\n",
       "  <tbody>\n",
       "    <tr>\n",
       "      <th>36213</th>\n",
       "      <td>2020-02-25</td>\n",
       "      <td>NaN</td>\n",
       "      <td>74.0</td>\n",
       "      <td>51.0</td>\n",
       "      <td>0.0</td>\n",
       "      <td>0.0</td>\n",
       "      <td>0.0</td>\n",
       "    </tr>\n",
       "    <tr>\n",
       "      <th>36214</th>\n",
       "      <td>2020-02-26</td>\n",
       "      <td>NaN</td>\n",
       "      <td>73.0</td>\n",
       "      <td>53.0</td>\n",
       "      <td>0.0</td>\n",
       "      <td>0.0</td>\n",
       "      <td>0.0</td>\n",
       "    </tr>\n",
       "    <tr>\n",
       "      <th>36215</th>\n",
       "      <td>2020-02-27</td>\n",
       "      <td>NaN</td>\n",
       "      <td>75.0</td>\n",
       "      <td>53.0</td>\n",
       "      <td>0.0</td>\n",
       "      <td>0.0</td>\n",
       "      <td>0.0</td>\n",
       "    </tr>\n",
       "    <tr>\n",
       "      <th>36216</th>\n",
       "      <td>2020-02-28</td>\n",
       "      <td>NaN</td>\n",
       "      <td>66.0</td>\n",
       "      <td>50.0</td>\n",
       "      <td>0.0</td>\n",
       "      <td>0.0</td>\n",
       "      <td>0.0</td>\n",
       "    </tr>\n",
       "    <tr>\n",
       "      <th>36217</th>\n",
       "      <td>2020-02-29</td>\n",
       "      <td>NaN</td>\n",
       "      <td>54.0</td>\n",
       "      <td>49.0</td>\n",
       "      <td>0.0</td>\n",
       "      <td>0.0</td>\n",
       "      <td>0.0</td>\n",
       "    </tr>\n",
       "  </tbody>\n",
       "</table>\n",
       "</div>"
      ],
      "text/plain": [
       "             date  average   max   min  prcp  snow  snwd\n",
       "36213  2020-02-25      NaN  74.0  51.0   0.0   0.0   0.0\n",
       "36214  2020-02-26      NaN  73.0  53.0   0.0   0.0   0.0\n",
       "36215  2020-02-27      NaN  75.0  53.0   0.0   0.0   0.0\n",
       "36216  2020-02-28      NaN  66.0  50.0   0.0   0.0   0.0\n",
       "36217  2020-02-29      NaN  54.0  49.0   0.0   0.0   0.0"
      ]
     },
     "execution_count": 4,
     "metadata": {},
     "output_type": "execute_result"
    }
   ],
   "source": [
    "df.tail()"
   ]
  },
  {
   "cell_type": "code",
   "execution_count": 5,
   "id": "b6a12a26",
   "metadata": {},
   "outputs": [],
   "source": [
    "df = df.drop(columns=['average', 'prcp', 'snow', 'snwd'])"
   ]
  },
  {
   "cell_type": "markdown",
   "id": "5a93e361",
   "metadata": {},
   "source": [
    "2022 updated data from [National Weather Service](https://www.weather.gov/wrh/climate?wfo=mtr)"
   ]
  },
  {
   "cell_type": "code",
   "execution_count": 6,
   "id": "4ae65bf1",
   "metadata": {},
   "outputs": [],
   "source": [
    "new_data_2022 = {'date':['2022-09-01', '2022-09-02','2022-09-03', '2022-09-04', '2022-09-05','2022-09-06','2022-09-07','2022-09-08','2022-09-09','2022-09-10','2022-09-11'],\n",
    "        'max':[66,68,75,82,91,98,81,87,71,68,69],\n",
    "        'min':[54,54,57,57,61,64,62,62,57,59,61]\n",
    "       }\n",
    "df2022 = pd.DataFrame(new_data_2022)"
   ]
  },
  {
   "cell_type": "markdown",
   "id": "77a758bb",
   "metadata": {},
   "source": [
    "2020 and 2021 data from [NOAA Station Data](https://www.ncdc.noaa.gov/cdo-web/datasets/GHCND/stations/GHCND:USW00023272/detail)"
   ]
  },
  {
   "cell_type": "code",
   "execution_count": 7,
   "id": "b58e2acd",
   "metadata": {},
   "outputs": [],
   "source": [
    "new_data_2021 = {'date':['2021-09-01', '2021-09-02','2021-09-03', '2021-09-04', '2021-09-05','2021-09-06','2021-09-07','2021-09-08','2021-09-09','2021-09-10','2021-09-11'],\n",
    "        'max':[64,66,61,66,68,77,66,70,64,63,66],\n",
    "        'min':[56,56,54,53,52,54,57,59,57,57,57]\n",
    "       }\n",
    "df2021 = pd.DataFrame(new_data_2021)"
   ]
  },
  {
   "cell_type": "code",
   "execution_count": 8,
   "id": "91065b86",
   "metadata": {},
   "outputs": [],
   "source": [
    "new_data_2020 = {'date':['2020-09-01', '2020-09-02','2020-09-03', '2020-09-04', '2020-09-05','2020-09-06','2020-09-07','2020-09-08','2020-09-09','2020-09-10','2020-09-11'],\n",
    "        'max':[65,66,64,69,89,100,91,71,60,64,71],\n",
    "        'min':[56,58,56,55,58,71,62,57,57,57,54]\n",
    "       }\n",
    "df2020 = pd.DataFrame(new_data_2020)"
   ]
  },
  {
   "cell_type": "code",
   "execution_count": 9,
   "id": "0e5e3f06",
   "metadata": {},
   "outputs": [],
   "source": [
    "df_update = pd.concat([df,df2020,df2021,df2022],ignore_index=True)\n",
    "df_update['gap'] = df_update['max'] - df_update['min']"
   ]
  },
  {
   "cell_type": "code",
   "execution_count": 10,
   "id": "34fb9ec7",
   "metadata": {},
   "outputs": [],
   "source": [
    "df_update['date'] = pd.to_datetime(df_update.date, format='%Y-%m-%d', errors='coerce')"
   ]
  },
  {
   "cell_type": "code",
   "execution_count": 11,
   "id": "0927a6bb",
   "metadata": {},
   "outputs": [],
   "source": [
    "df_update.set_index('date', inplace=True)"
   ]
  },
  {
   "cell_type": "code",
   "execution_count": 12,
   "id": "ec3e23ac",
   "metadata": {},
   "outputs": [
    {
     "data": {
      "text/html": [
       "<div>\n",
       "<style scoped>\n",
       "    .dataframe tbody tr th:only-of-type {\n",
       "        vertical-align: middle;\n",
       "    }\n",
       "\n",
       "    .dataframe tbody tr th {\n",
       "        vertical-align: top;\n",
       "    }\n",
       "\n",
       "    .dataframe thead th {\n",
       "        text-align: right;\n",
       "    }\n",
       "</style>\n",
       "<table border=\"1\" class=\"dataframe\">\n",
       "  <thead>\n",
       "    <tr style=\"text-align: right;\">\n",
       "      <th></th>\n",
       "      <th>max</th>\n",
       "      <th>min</th>\n",
       "      <th>gap</th>\n",
       "    </tr>\n",
       "    <tr>\n",
       "      <th>date</th>\n",
       "      <th></th>\n",
       "      <th></th>\n",
       "      <th></th>\n",
       "    </tr>\n",
       "  </thead>\n",
       "  <tbody>\n",
       "    <tr>\n",
       "      <th>1921-01-01</th>\n",
       "      <td>60.0</td>\n",
       "      <td>45.0</td>\n",
       "      <td>15.0</td>\n",
       "    </tr>\n",
       "    <tr>\n",
       "      <th>1921-01-02</th>\n",
       "      <td>54.0</td>\n",
       "      <td>46.0</td>\n",
       "      <td>8.0</td>\n",
       "    </tr>\n",
       "    <tr>\n",
       "      <th>1921-01-03</th>\n",
       "      <td>60.0</td>\n",
       "      <td>50.0</td>\n",
       "      <td>10.0</td>\n",
       "    </tr>\n",
       "    <tr>\n",
       "      <th>1921-01-04</th>\n",
       "      <td>61.0</td>\n",
       "      <td>47.0</td>\n",
       "      <td>14.0</td>\n",
       "    </tr>\n",
       "    <tr>\n",
       "      <th>1921-01-05</th>\n",
       "      <td>54.0</td>\n",
       "      <td>47.0</td>\n",
       "      <td>7.0</td>\n",
       "    </tr>\n",
       "  </tbody>\n",
       "</table>\n",
       "</div>"
      ],
      "text/plain": [
       "             max   min   gap\n",
       "date                        \n",
       "1921-01-01  60.0  45.0  15.0\n",
       "1921-01-02  54.0  46.0   8.0\n",
       "1921-01-03  60.0  50.0  10.0\n",
       "1921-01-04  61.0  47.0  14.0\n",
       "1921-01-05  54.0  47.0   7.0"
      ]
     },
     "execution_count": 12,
     "metadata": {},
     "output_type": "execute_result"
    }
   ],
   "source": [
    "df_update.head()"
   ]
  },
  {
   "cell_type": "markdown",
   "id": "848952ed",
   "metadata": {},
   "source": [
    "## filter out all the 0901-0911 data"
   ]
  },
  {
   "cell_type": "code",
   "execution_count": 13,
   "id": "e952e545",
   "metadata": {},
   "outputs": [],
   "source": [
    "df_sept = df_update[df_update.index.month.isin([9])&df_update.index.day.isin([1,2,3,4,5,6,7,8,9,10,11])].sort_index(ascending=True).reset_index()"
   ]
  },
  {
   "cell_type": "code",
   "execution_count": 14,
   "id": "56162d1c",
   "metadata": {},
   "outputs": [
    {
     "data": {
      "text/html": [
       "<div>\n",
       "<style scoped>\n",
       "    .dataframe tbody tr th:only-of-type {\n",
       "        vertical-align: middle;\n",
       "    }\n",
       "\n",
       "    .dataframe tbody tr th {\n",
       "        vertical-align: top;\n",
       "    }\n",
       "\n",
       "    .dataframe thead th {\n",
       "        text-align: right;\n",
       "    }\n",
       "</style>\n",
       "<table border=\"1\" class=\"dataframe\">\n",
       "  <thead>\n",
       "    <tr style=\"text-align: right;\">\n",
       "      <th></th>\n",
       "      <th>date</th>\n",
       "      <th>max</th>\n",
       "      <th>min</th>\n",
       "      <th>gap</th>\n",
       "    </tr>\n",
       "  </thead>\n",
       "  <tbody>\n",
       "    <tr>\n",
       "      <th>0</th>\n",
       "      <td>1921-09-01</td>\n",
       "      <td>67.0</td>\n",
       "      <td>55.0</td>\n",
       "      <td>12.0</td>\n",
       "    </tr>\n",
       "    <tr>\n",
       "      <th>1</th>\n",
       "      <td>1921-09-02</td>\n",
       "      <td>66.0</td>\n",
       "      <td>56.0</td>\n",
       "      <td>10.0</td>\n",
       "    </tr>\n",
       "    <tr>\n",
       "      <th>2</th>\n",
       "      <td>1921-09-03</td>\n",
       "      <td>73.0</td>\n",
       "      <td>55.0</td>\n",
       "      <td>18.0</td>\n",
       "    </tr>\n",
       "    <tr>\n",
       "      <th>3</th>\n",
       "      <td>1921-09-04</td>\n",
       "      <td>80.0</td>\n",
       "      <td>56.0</td>\n",
       "      <td>24.0</td>\n",
       "    </tr>\n",
       "    <tr>\n",
       "      <th>4</th>\n",
       "      <td>1921-09-05</td>\n",
       "      <td>78.0</td>\n",
       "      <td>53.0</td>\n",
       "      <td>25.0</td>\n",
       "    </tr>\n",
       "  </tbody>\n",
       "</table>\n",
       "</div>"
      ],
      "text/plain": [
       "        date   max   min   gap\n",
       "0 1921-09-01  67.0  55.0  12.0\n",
       "1 1921-09-02  66.0  56.0  10.0\n",
       "2 1921-09-03  73.0  55.0  18.0\n",
       "3 1921-09-04  80.0  56.0  24.0\n",
       "4 1921-09-05  78.0  53.0  25.0"
      ]
     },
     "execution_count": 14,
     "metadata": {},
     "output_type": "execute_result"
    }
   ],
   "source": [
    "df_sept.head()"
   ]
  },
  {
   "cell_type": "code",
   "execution_count": 15,
   "id": "ba17c826",
   "metadata": {},
   "outputs": [],
   "source": [
    "df_sept['category'] = 'before'\n",
    "df_sept.loc[df_sept['date'].dt.year > 1980, 'category'] = 'after'"
   ]
  },
  {
   "cell_type": "code",
   "execution_count": 16,
   "id": "c13b6ecc",
   "metadata": {},
   "outputs": [
    {
     "data": {
      "text/plain": [
       "<matplotlib.legend.Legend at 0x103e26e50>"
      ]
     },
     "execution_count": 16,
     "metadata": {},
     "output_type": "execute_result"
    },
    {
     "data": {
      "image/png": "[encoded data removed]",
      "text/plain": [
       "<Figure size 720x360 with 1 Axes>"
      ]
     },
     "metadata": {
      "needs_background": "light"
     },
     "output_type": "display_data"
    }
   ],
   "source": [
    "import matplotlib.pyplot as plt\n",
    "df_sept.groupby('category')['max'].plot(kind='kde',figsize=(10,5))\n",
    "plt.legend(['after1980', 'before1980'], title='category')"
   ]
  },
  {
   "cell_type": "code",
   "execution_count": 17,
   "id": "6906e442",
   "metadata": {},
   "outputs": [
    {
     "data": {
      "text/html": [
       "<div>\n",
       "<style scoped>\n",
       "    .dataframe tbody tr th:only-of-type {\n",
       "        vertical-align: middle;\n",
       "    }\n",
       "\n",
       "    .dataframe tbody tr th {\n",
       "        vertical-align: top;\n",
       "    }\n",
       "\n",
       "    .dataframe thead tr th {\n",
       "        text-align: left;\n",
       "    }\n",
       "\n",
       "    .dataframe thead tr:last-of-type th {\n",
       "        text-align: right;\n",
       "    }\n",
       "</style>\n",
       "<table border=\"1\" class=\"dataframe\">\n",
       "  <thead>\n",
       "    <tr>\n",
       "      <th></th>\n",
       "      <th colspan=\"8\" halign=\"left\">max</th>\n",
       "      <th colspan=\"5\" halign=\"left\">min</th>\n",
       "      <th colspan=\"8\" halign=\"left\">gap</th>\n",
       "    </tr>\n",
       "    <tr>\n",
       "      <th></th>\n",
       "      <th>count</th>\n",
       "      <th>mean</th>\n",
       "      <th>std</th>\n",
       "      <th>min</th>\n",
       "      <th>25%</th>\n",
       "      <th>50%</th>\n",
       "      <th>75%</th>\n",
       "      <th>max</th>\n",
       "      <th>count</th>\n",
       "      <th>mean</th>\n",
       "      <th>...</th>\n",
       "      <th>75%</th>\n",
       "      <th>max</th>\n",
       "      <th>count</th>\n",
       "      <th>mean</th>\n",
       "      <th>std</th>\n",
       "      <th>min</th>\n",
       "      <th>25%</th>\n",
       "      <th>50%</th>\n",
       "      <th>75%</th>\n",
       "      <th>max</th>\n",
       "    </tr>\n",
       "    <tr>\n",
       "      <th>category</th>\n",
       "      <th></th>\n",
       "      <th></th>\n",
       "      <th></th>\n",
       "      <th></th>\n",
       "      <th></th>\n",
       "      <th></th>\n",
       "      <th></th>\n",
       "      <th></th>\n",
       "      <th></th>\n",
       "      <th></th>\n",
       "      <th></th>\n",
       "      <th></th>\n",
       "      <th></th>\n",
       "      <th></th>\n",
       "      <th></th>\n",
       "      <th></th>\n",
       "      <th></th>\n",
       "      <th></th>\n",
       "      <th></th>\n",
       "      <th></th>\n",
       "      <th></th>\n",
       "    </tr>\n",
       "  </thead>\n",
       "  <tbody>\n",
       "    <tr>\n",
       "      <th>after</th>\n",
       "      <td>462.0</td>\n",
       "      <td>71.106061</td>\n",
       "      <td>8.263004</td>\n",
       "      <td>59.0</td>\n",
       "      <td>66.0</td>\n",
       "      <td>69.0</td>\n",
       "      <td>74.0</td>\n",
       "      <td>106.0</td>\n",
       "      <td>462.0</td>\n",
       "      <td>56.209957</td>\n",
       "      <td>...</td>\n",
       "      <td>58.0</td>\n",
       "      <td>75.0</td>\n",
       "      <td>462.0</td>\n",
       "      <td>14.896104</td>\n",
       "      <td>7.105803</td>\n",
       "      <td>3.0</td>\n",
       "      <td>10.0</td>\n",
       "      <td>13.0</td>\n",
       "      <td>18.0</td>\n",
       "      <td>37.0</td>\n",
       "    </tr>\n",
       "    <tr>\n",
       "      <th>before</th>\n",
       "      <td>660.0</td>\n",
       "      <td>68.095455</td>\n",
       "      <td>7.291147</td>\n",
       "      <td>55.0</td>\n",
       "      <td>63.0</td>\n",
       "      <td>66.5</td>\n",
       "      <td>71.0</td>\n",
       "      <td>100.0</td>\n",
       "      <td>660.0</td>\n",
       "      <td>55.300000</td>\n",
       "      <td>...</td>\n",
       "      <td>57.0</td>\n",
       "      <td>70.0</td>\n",
       "      <td>660.0</td>\n",
       "      <td>12.795455</td>\n",
       "      <td>6.149551</td>\n",
       "      <td>2.0</td>\n",
       "      <td>9.0</td>\n",
       "      <td>11.0</td>\n",
       "      <td>15.0</td>\n",
       "      <td>40.0</td>\n",
       "    </tr>\n",
       "  </tbody>\n",
       "</table>\n",
       "<p>2 rows × 24 columns</p>\n",
       "</div>"
      ],
      "text/plain": [
       "            max                                                        min  \\\n",
       "          count       mean       std   min   25%   50%   75%    max  count   \n",
       "category                                                                     \n",
       "after     462.0  71.106061  8.263004  59.0  66.0  69.0  74.0  106.0  462.0   \n",
       "before    660.0  68.095455  7.291147  55.0  63.0  66.5  71.0  100.0  660.0   \n",
       "\n",
       "                     ...                gap                                  \\\n",
       "               mean  ...   75%   max  count       mean       std  min   25%   \n",
       "category             ...                                                      \n",
       "after     56.209957  ...  58.0  75.0  462.0  14.896104  7.105803  3.0  10.0   \n",
       "before    55.300000  ...  57.0  70.0  660.0  12.795455  6.149551  2.0   9.0   \n",
       "\n",
       "                            \n",
       "           50%   75%   max  \n",
       "category                    \n",
       "after     13.0  18.0  37.0  \n",
       "before    11.0  15.0  40.0  \n",
       "\n",
       "[2 rows x 24 columns]"
      ]
     },
     "execution_count": 17,
     "metadata": {},
     "output_type": "execute_result"
    }
   ],
   "source": [
    "df_sept.groupby(['category']).describe()"
   ]
  },
  {
   "cell_type": "code",
   "execution_count": 18,
   "id": "ac10a4bd",
   "metadata": {},
   "outputs": [
    {
     "data": {
      "image/png": "[encoded data removed]",
      "text/plain": [
       "<Figure size 864x216 with 1 Axes>"
      ]
     },
     "metadata": {
      "needs_background": "light"
     },
     "output_type": "display_data"
    }
   ],
   "source": [
    "fig1 = df_sept.resample('Y', on='date')['max'].mean().plot(figsize=(12,3),ylim=(55,83),xlim=('1920','2027')).figure\n",
    "fig1.savefig('fig1.pdf')"
   ]
  },
  {
   "cell_type": "code",
   "execution_count": 19,
   "id": "58d2b81e",
   "metadata": {},
   "outputs": [
    {
     "data": {
      "image/png": "[encoded data removed]",
      "text/plain": [
       "<Figure size 864x216 with 1 Axes>"
      ]
     },
     "metadata": {
      "needs_background": "light"
     },
     "output_type": "display_data"
    }
   ],
   "source": [
    "fig_rs = df_sept.resample('5Y', on='date')['max'].mean().plot(figsize=(12,3),ylim=(55,83),xlim=('1920','2027')).figure\n",
    "fig_rs.savefig('fig_rs.pdf')"
   ]
  },
  {
   "cell_type": "code",
   "execution_count": null,
   "id": "3d5ff363",
   "metadata": {},
   "outputs": [],
   "source": [
    "#fig2 = df_sept.resample('Y', on='date')['min'].mean().plot(figsize=(12,3)).figure\n",
    "#fig2.savefig('fig2.pdf')"
   ]
  },
  {
   "cell_type": "code",
   "execution_count": null,
   "id": "37ea41da",
   "metadata": {},
   "outputs": [],
   "source": [
    "#df_sept.resample('Y', on='date')['gap'].mean().plot(figsize=(12,3))"
   ]
  },
  {
   "cell_type": "code",
   "execution_count": 20,
   "id": "2a5d6afd",
   "metadata": {},
   "outputs": [
    {
     "data": {
      "text/plain": [
       "<AxesSubplot:xlabel='date'>"
      ]
     },
     "execution_count": 20,
     "metadata": {},
     "output_type": "execute_result"
    },
    {
     "data": {
      "image/png": "[encoded data removed]",
      "text/plain": [
       "<Figure size 432x288 with 1 Axes>"
      ]
     },
     "metadata": {
      "needs_background": "light"
     },
     "output_type": "display_data"
    }
   ],
   "source": [
    "df_sept[df_sept.date.dt.year > 2000].resample('Y', on='date')['max'].mean().plot()"
   ]
  },
  {
   "cell_type": "code",
   "execution_count": 21,
   "id": "d211e8ea",
   "metadata": {},
   "outputs": [
    {
     "data": {
      "text/plain": [
       "<AxesSubplot:xlabel='date'>"
      ]
     },
     "execution_count": 21,
     "metadata": {},
     "output_type": "execute_result"
    },
    {
     "data": {
      "image/png": "[encoded data removed]",
      "text/plain": [
       "<Figure size 432x288 with 1 Axes>"
      ]
     },
     "metadata": {
      "needs_background": "light"
     },
     "output_type": "display_data"
    }
   ],
   "source": [
    "df_sept[df_sept.date.dt.year > 2000].resample('Y', on='date')['min'].mean().plot()"
   ]
  },
  {
   "cell_type": "code",
   "execution_count": 22,
   "id": "1431b0b2",
   "metadata": {},
   "outputs": [
    {
     "data": {
      "text/plain": [
       "<AxesSubplot:xlabel='date'>"
      ]
     },
     "execution_count": 22,
     "metadata": {},
     "output_type": "execute_result"
    },
    {
     "data": {
      "image/png": "[encoded data removed]",
      "text/plain": [
       "<Figure size 432x288 with 1 Axes>"
      ]
     },
     "metadata": {
      "needs_background": "light"
     },
     "output_type": "display_data"
    }
   ],
   "source": [
    "df_sept[df_sept.date.dt.year > 2000].resample('Y', on='date')['gap'].mean().plot()"
   ]
  },
  {
   "cell_type": "markdown",
   "id": "83a2c6a6",
   "metadata": {},
   "source": [
    "## Group by year"
   ]
  },
  {
   "cell_type": "code",
   "execution_count": 23,
   "id": "d027e52d",
   "metadata": {},
   "outputs": [],
   "source": [
    "df_sept.set_index('date', inplace=True)"
   ]
  },
  {
   "cell_type": "code",
   "execution_count": 24,
   "id": "d8e5f8bf",
   "metadata": {},
   "outputs": [],
   "source": [
    "rank = df_sept.groupby(by=[df_sept.index.year]).mean().reset_index()"
   ]
  },
  {
   "cell_type": "code",
   "execution_count": 25,
   "id": "21be6037",
   "metadata": {},
   "outputs": [
    {
     "data": {
      "text/html": [
       "<div>\n",
       "<style scoped>\n",
       "    .dataframe tbody tr th:only-of-type {\n",
       "        vertical-align: middle;\n",
       "    }\n",
       "\n",
       "    .dataframe tbody tr th {\n",
       "        vertical-align: top;\n",
       "    }\n",
       "\n",
       "    .dataframe thead th {\n",
       "        text-align: right;\n",
       "    }\n",
       "</style>\n",
       "<table border=\"1\" class=\"dataframe\">\n",
       "  <thead>\n",
       "    <tr style=\"text-align: right;\">\n",
       "      <th></th>\n",
       "      <th>date</th>\n",
       "      <th>max</th>\n",
       "      <th>min</th>\n",
       "      <th>gap</th>\n",
       "    </tr>\n",
       "  </thead>\n",
       "  <tbody>\n",
       "    <tr>\n",
       "      <th>96</th>\n",
       "      <td>2017</td>\n",
       "      <td>82.727273</td>\n",
       "      <td>63.636364</td>\n",
       "      <td>19.090909</td>\n",
       "    </tr>\n",
       "    <tr>\n",
       "      <th>63</th>\n",
       "      <td>1984</td>\n",
       "      <td>82.000000</td>\n",
       "      <td>57.727273</td>\n",
       "      <td>24.272727</td>\n",
       "    </tr>\n",
       "    <tr>\n",
       "      <th>83</th>\n",
       "      <td>2004</td>\n",
       "      <td>79.545455</td>\n",
       "      <td>60.000000</td>\n",
       "      <td>19.545455</td>\n",
       "    </tr>\n",
       "    <tr>\n",
       "      <th>62</th>\n",
       "      <td>1983</td>\n",
       "      <td>78.727273</td>\n",
       "      <td>57.636364</td>\n",
       "      <td>21.090909</td>\n",
       "    </tr>\n",
       "    <tr>\n",
       "      <th>101</th>\n",
       "      <td>2022</td>\n",
       "      <td>77.818182</td>\n",
       "      <td>58.909091</td>\n",
       "      <td>18.909091</td>\n",
       "    </tr>\n",
       "    <tr>\n",
       "      <th>94</th>\n",
       "      <td>2015</td>\n",
       "      <td>77.454545</td>\n",
       "      <td>58.363636</td>\n",
       "      <td>19.090909</td>\n",
       "    </tr>\n",
       "    <tr>\n",
       "      <th>58</th>\n",
       "      <td>1979</td>\n",
       "      <td>76.909091</td>\n",
       "      <td>61.363636</td>\n",
       "      <td>15.545455</td>\n",
       "    </tr>\n",
       "    <tr>\n",
       "      <th>11</th>\n",
       "      <td>1932</td>\n",
       "      <td>76.909091</td>\n",
       "      <td>55.727273</td>\n",
       "      <td>21.181818</td>\n",
       "    </tr>\n",
       "    <tr>\n",
       "      <th>87</th>\n",
       "      <td>2008</td>\n",
       "      <td>76.090909</td>\n",
       "      <td>57.000000</td>\n",
       "      <td>19.090909</td>\n",
       "    </tr>\n",
       "    <tr>\n",
       "      <th>1</th>\n",
       "      <td>1922</td>\n",
       "      <td>74.363636</td>\n",
       "      <td>56.454545</td>\n",
       "      <td>17.909091</td>\n",
       "    </tr>\n",
       "  </tbody>\n",
       "</table>\n",
       "</div>"
      ],
      "text/plain": [
       "     date        max        min        gap\n",
       "96   2017  82.727273  63.636364  19.090909\n",
       "63   1984  82.000000  57.727273  24.272727\n",
       "83   2004  79.545455  60.000000  19.545455\n",
       "62   1983  78.727273  57.636364  21.090909\n",
       "101  2022  77.818182  58.909091  18.909091\n",
       "94   2015  77.454545  58.363636  19.090909\n",
       "58   1979  76.909091  61.363636  15.545455\n",
       "11   1932  76.909091  55.727273  21.181818\n",
       "87   2008  76.090909  57.000000  19.090909\n",
       "1    1922  74.363636  56.454545  17.909091"
      ]
     },
     "execution_count": 25,
     "metadata": {},
     "output_type": "execute_result"
    }
   ],
   "source": [
    "rank.sort_values(by='max',ascending=False).head(10)"
   ]
  },
  {
   "cell_type": "code",
   "execution_count": 26,
   "id": "1c109b0d",
   "metadata": {},
   "outputs": [
    {
     "data": {
      "text/html": [
       "<div>\n",
       "<style scoped>\n",
       "    .dataframe tbody tr th:only-of-type {\n",
       "        vertical-align: middle;\n",
       "    }\n",
       "\n",
       "    .dataframe tbody tr th {\n",
       "        vertical-align: top;\n",
       "    }\n",
       "\n",
       "    .dataframe thead th {\n",
       "        text-align: right;\n",
       "    }\n",
       "</style>\n",
       "<table border=\"1\" class=\"dataframe\">\n",
       "  <thead>\n",
       "    <tr style=\"text-align: right;\">\n",
       "      <th></th>\n",
       "      <th>date</th>\n",
       "      <th>max</th>\n",
       "      <th>min</th>\n",
       "      <th>gap</th>\n",
       "    </tr>\n",
       "  </thead>\n",
       "  <tbody>\n",
       "    <tr>\n",
       "      <th>96</th>\n",
       "      <td>2017</td>\n",
       "      <td>82.727273</td>\n",
       "      <td>63.636364</td>\n",
       "      <td>19.090909</td>\n",
       "    </tr>\n",
       "    <tr>\n",
       "      <th>58</th>\n",
       "      <td>1979</td>\n",
       "      <td>76.909091</td>\n",
       "      <td>61.363636</td>\n",
       "      <td>15.545455</td>\n",
       "    </tr>\n",
       "    <tr>\n",
       "      <th>83</th>\n",
       "      <td>2004</td>\n",
       "      <td>79.545455</td>\n",
       "      <td>60.000000</td>\n",
       "      <td>19.545455</td>\n",
       "    </tr>\n",
       "    <tr>\n",
       "      <th>76</th>\n",
       "      <td>1997</td>\n",
       "      <td>74.181818</td>\n",
       "      <td>59.727273</td>\n",
       "      <td>14.454545</td>\n",
       "    </tr>\n",
       "    <tr>\n",
       "      <th>101</th>\n",
       "      <td>2022</td>\n",
       "      <td>77.818182</td>\n",
       "      <td>58.909091</td>\n",
       "      <td>18.909091</td>\n",
       "    </tr>\n",
       "    <tr>\n",
       "      <th>37</th>\n",
       "      <td>1958</td>\n",
       "      <td>72.454545</td>\n",
       "      <td>58.909091</td>\n",
       "      <td>13.545455</td>\n",
       "    </tr>\n",
       "    <tr>\n",
       "      <th>47</th>\n",
       "      <td>1968</td>\n",
       "      <td>65.727273</td>\n",
       "      <td>58.818182</td>\n",
       "      <td>6.909091</td>\n",
       "    </tr>\n",
       "    <tr>\n",
       "      <th>64</th>\n",
       "      <td>1985</td>\n",
       "      <td>68.727273</td>\n",
       "      <td>58.636364</td>\n",
       "      <td>10.090909</td>\n",
       "    </tr>\n",
       "    <tr>\n",
       "      <th>20</th>\n",
       "      <td>1941</td>\n",
       "      <td>70.818182</td>\n",
       "      <td>58.545455</td>\n",
       "      <td>12.272727</td>\n",
       "    </tr>\n",
       "    <tr>\n",
       "      <th>94</th>\n",
       "      <td>2015</td>\n",
       "      <td>77.454545</td>\n",
       "      <td>58.363636</td>\n",
       "      <td>19.090909</td>\n",
       "    </tr>\n",
       "  </tbody>\n",
       "</table>\n",
       "</div>"
      ],
      "text/plain": [
       "     date        max        min        gap\n",
       "96   2017  82.727273  63.636364  19.090909\n",
       "58   1979  76.909091  61.363636  15.545455\n",
       "83   2004  79.545455  60.000000  19.545455\n",
       "76   1997  74.181818  59.727273  14.454545\n",
       "101  2022  77.818182  58.909091  18.909091\n",
       "37   1958  72.454545  58.909091  13.545455\n",
       "47   1968  65.727273  58.818182   6.909091\n",
       "64   1985  68.727273  58.636364  10.090909\n",
       "20   1941  70.818182  58.545455  12.272727\n",
       "94   2015  77.454545  58.363636  19.090909"
      ]
     },
     "execution_count": 26,
     "metadata": {},
     "output_type": "execute_result"
    }
   ],
   "source": [
    "rank.sort_values(by='min',ascending=False).head(10)"
   ]
  },
  {
   "cell_type": "code",
   "execution_count": 27,
   "id": "72ef5759",
   "metadata": {},
   "outputs": [
    {
     "data": {
      "text/html": [
       "<div>\n",
       "<style scoped>\n",
       "    .dataframe tbody tr th:only-of-type {\n",
       "        vertical-align: middle;\n",
       "    }\n",
       "\n",
       "    .dataframe tbody tr th {\n",
       "        vertical-align: top;\n",
       "    }\n",
       "\n",
       "    .dataframe thead th {\n",
       "        text-align: right;\n",
       "    }\n",
       "</style>\n",
       "<table border=\"1\" class=\"dataframe\">\n",
       "  <thead>\n",
       "    <tr style=\"text-align: right;\">\n",
       "      <th></th>\n",
       "      <th>date</th>\n",
       "      <th>max</th>\n",
       "      <th>min</th>\n",
       "      <th>gap</th>\n",
       "    </tr>\n",
       "  </thead>\n",
       "  <tbody>\n",
       "    <tr>\n",
       "      <th>63</th>\n",
       "      <td>1984</td>\n",
       "      <td>82.000000</td>\n",
       "      <td>57.727273</td>\n",
       "      <td>24.272727</td>\n",
       "    </tr>\n",
       "    <tr>\n",
       "      <th>11</th>\n",
       "      <td>1932</td>\n",
       "      <td>76.909091</td>\n",
       "      <td>55.727273</td>\n",
       "      <td>21.181818</td>\n",
       "    </tr>\n",
       "    <tr>\n",
       "      <th>62</th>\n",
       "      <td>1983</td>\n",
       "      <td>78.727273</td>\n",
       "      <td>57.636364</td>\n",
       "      <td>21.090909</td>\n",
       "    </tr>\n",
       "    <tr>\n",
       "      <th>83</th>\n",
       "      <td>2004</td>\n",
       "      <td>79.545455</td>\n",
       "      <td>60.000000</td>\n",
       "      <td>19.545455</td>\n",
       "    </tr>\n",
       "    <tr>\n",
       "      <th>96</th>\n",
       "      <td>2017</td>\n",
       "      <td>82.727273</td>\n",
       "      <td>63.636364</td>\n",
       "      <td>19.090909</td>\n",
       "    </tr>\n",
       "    <tr>\n",
       "      <th>94</th>\n",
       "      <td>2015</td>\n",
       "      <td>77.454545</td>\n",
       "      <td>58.363636</td>\n",
       "      <td>19.090909</td>\n",
       "    </tr>\n",
       "    <tr>\n",
       "      <th>87</th>\n",
       "      <td>2008</td>\n",
       "      <td>76.090909</td>\n",
       "      <td>57.000000</td>\n",
       "      <td>19.090909</td>\n",
       "    </tr>\n",
       "    <tr>\n",
       "      <th>101</th>\n",
       "      <td>2022</td>\n",
       "      <td>77.818182</td>\n",
       "      <td>58.909091</td>\n",
       "      <td>18.909091</td>\n",
       "    </tr>\n",
       "    <tr>\n",
       "      <th>34</th>\n",
       "      <td>1955</td>\n",
       "      <td>71.818182</td>\n",
       "      <td>53.181818</td>\n",
       "      <td>18.636364</td>\n",
       "    </tr>\n",
       "    <tr>\n",
       "      <th>75</th>\n",
       "      <td>1996</td>\n",
       "      <td>74.090909</td>\n",
       "      <td>55.454545</td>\n",
       "      <td>18.636364</td>\n",
       "    </tr>\n",
       "  </tbody>\n",
       "</table>\n",
       "</div>"
      ],
      "text/plain": [
       "     date        max        min        gap\n",
       "63   1984  82.000000  57.727273  24.272727\n",
       "11   1932  76.909091  55.727273  21.181818\n",
       "62   1983  78.727273  57.636364  21.090909\n",
       "83   2004  79.545455  60.000000  19.545455\n",
       "96   2017  82.727273  63.636364  19.090909\n",
       "94   2015  77.454545  58.363636  19.090909\n",
       "87   2008  76.090909  57.000000  19.090909\n",
       "101  2022  77.818182  58.909091  18.909091\n",
       "34   1955  71.818182  53.181818  18.636364\n",
       "75   1996  74.090909  55.454545  18.636364"
      ]
     },
     "execution_count": 27,
     "metadata": {},
     "output_type": "execute_result"
    }
   ],
   "source": [
    "rank.sort_values(by='gap',ascending=False).head(10)"
   ]
  },
  {
   "cell_type": "markdown",
   "id": "1b37689a",
   "metadata": {},
   "source": [
    "## Look at the day"
   ]
  },
  {
   "cell_type": "code",
   "execution_count": 28,
   "id": "fa9a2786",
   "metadata": {},
   "outputs": [
    {
     "data": {
      "text/html": [
       "<div>\n",
       "<style scoped>\n",
       "    .dataframe tbody tr th:only-of-type {\n",
       "        vertical-align: middle;\n",
       "    }\n",
       "\n",
       "    .dataframe tbody tr th {\n",
       "        vertical-align: top;\n",
       "    }\n",
       "\n",
       "    .dataframe thead th {\n",
       "        text-align: right;\n",
       "    }\n",
       "</style>\n",
       "<table border=\"1\" class=\"dataframe\">\n",
       "  <thead>\n",
       "    <tr style=\"text-align: right;\">\n",
       "      <th></th>\n",
       "      <th>max</th>\n",
       "      <th>min</th>\n",
       "      <th>gap</th>\n",
       "      <th>category</th>\n",
       "    </tr>\n",
       "    <tr>\n",
       "      <th>date</th>\n",
       "      <th></th>\n",
       "      <th></th>\n",
       "      <th></th>\n",
       "      <th></th>\n",
       "    </tr>\n",
       "  </thead>\n",
       "  <tbody>\n",
       "    <tr>\n",
       "      <th>2017-09-01</th>\n",
       "      <td>106.0</td>\n",
       "      <td>69.0</td>\n",
       "      <td>37.0</td>\n",
       "      <td>after</td>\n",
       "    </tr>\n",
       "    <tr>\n",
       "      <th>2017-09-02</th>\n",
       "      <td>102.0</td>\n",
       "      <td>75.0</td>\n",
       "      <td>27.0</td>\n",
       "      <td>after</td>\n",
       "    </tr>\n",
       "    <tr>\n",
       "      <th>2020-09-06</th>\n",
       "      <td>100.0</td>\n",
       "      <td>71.0</td>\n",
       "      <td>29.0</td>\n",
       "      <td>after</td>\n",
       "    </tr>\n",
       "    <tr>\n",
       "      <th>1984-09-08</th>\n",
       "      <td>100.0</td>\n",
       "      <td>64.0</td>\n",
       "      <td>36.0</td>\n",
       "      <td>after</td>\n",
       "    </tr>\n",
       "    <tr>\n",
       "      <th>1932-09-09</th>\n",
       "      <td>100.0</td>\n",
       "      <td>60.0</td>\n",
       "      <td>40.0</td>\n",
       "      <td>before</td>\n",
       "    </tr>\n",
       "    <tr>\n",
       "      <th>1979-09-11</th>\n",
       "      <td>98.0</td>\n",
       "      <td>67.0</td>\n",
       "      <td>31.0</td>\n",
       "      <td>before</td>\n",
       "    </tr>\n",
       "    <tr>\n",
       "      <th>2022-09-06</th>\n",
       "      <td>98.0</td>\n",
       "      <td>64.0</td>\n",
       "      <td>34.0</td>\n",
       "      <td>after</td>\n",
       "    </tr>\n",
       "    <tr>\n",
       "      <th>2004-09-05</th>\n",
       "      <td>96.0</td>\n",
       "      <td>62.0</td>\n",
       "      <td>34.0</td>\n",
       "      <td>after</td>\n",
       "    </tr>\n",
       "    <tr>\n",
       "      <th>2015-09-08</th>\n",
       "      <td>95.0</td>\n",
       "      <td>65.0</td>\n",
       "      <td>30.0</td>\n",
       "      <td>after</td>\n",
       "    </tr>\n",
       "    <tr>\n",
       "      <th>1984-09-09</th>\n",
       "      <td>94.0</td>\n",
       "      <td>61.0</td>\n",
       "      <td>33.0</td>\n",
       "      <td>after</td>\n",
       "    </tr>\n",
       "  </tbody>\n",
       "</table>\n",
       "</div>"
      ],
      "text/plain": [
       "              max   min   gap category\n",
       "date                                  \n",
       "2017-09-01  106.0  69.0  37.0    after\n",
       "2017-09-02  102.0  75.0  27.0    after\n",
       "2020-09-06  100.0  71.0  29.0    after\n",
       "1984-09-08  100.0  64.0  36.0    after\n",
       "1932-09-09  100.0  60.0  40.0   before\n",
       "1979-09-11   98.0  67.0  31.0   before\n",
       "2022-09-06   98.0  64.0  34.0    after\n",
       "2004-09-05   96.0  62.0  34.0    after\n",
       "2015-09-08   95.0  65.0  30.0    after\n",
       "1984-09-09   94.0  61.0  33.0    after"
      ]
     },
     "execution_count": 28,
     "metadata": {},
     "output_type": "execute_result"
    }
   ],
   "source": [
    "df_sept.sort_values(by='max',ascending=False).head(10)"
   ]
  },
  {
   "cell_type": "markdown",
   "id": "609d519c",
   "metadata": {},
   "source": [
    "## Mission specific"
   ]
  },
  {
   "cell_type": "markdown",
   "id": "d558f75a",
   "metadata": {},
   "source": [
    "The mission data is from [weather underground](https://www.wunderground.com/dashboard/pws/KCASANFR1141/table/2017-09-17/2017-09-17/monthly). I abandoned this part of data because one source mentioned the data quality might be \n",
    "suspicious. The downtown station is under regular checks but not those ones on the weather underground."
   ]
  },
  {
   "cell_type": "code",
   "execution_count": 45,
   "id": "372d62a2",
   "metadata": {},
   "outputs": [],
   "source": [
    "df = pd.read_csv(\"data/mission-temp.csv\")\n",
    "df = df[['date','high','avg','low']]"
   ]
  },
  {
   "cell_type": "code",
   "execution_count": 46,
   "id": "d3fa4009",
   "metadata": {},
   "outputs": [
    {
     "data": {
      "text/html": [
       "<div>\n",
       "<style scoped>\n",
       "    .dataframe tbody tr th:only-of-type {\n",
       "        vertical-align: middle;\n",
       "    }\n",
       "\n",
       "    .dataframe tbody tr th {\n",
       "        vertical-align: top;\n",
       "    }\n",
       "\n",
       "    .dataframe thead th {\n",
       "        text-align: right;\n",
       "    }\n",
       "</style>\n",
       "<table border=\"1\" class=\"dataframe\">\n",
       "  <thead>\n",
       "    <tr style=\"text-align: right;\">\n",
       "      <th></th>\n",
       "      <th>date</th>\n",
       "      <th>high</th>\n",
       "      <th>avg</th>\n",
       "      <th>low</th>\n",
       "    </tr>\n",
       "  </thead>\n",
       "  <tbody>\n",
       "    <tr>\n",
       "      <th>0</th>\n",
       "      <td>9/1/2022</td>\n",
       "      <td>80.4 °F</td>\n",
       "      <td>65.8 °F</td>\n",
       "      <td>52.0 °F</td>\n",
       "    </tr>\n",
       "    <tr>\n",
       "      <th>1</th>\n",
       "      <td>9/2/2022</td>\n",
       "      <td>85.8 °F</td>\n",
       "      <td>64.6 °F</td>\n",
       "      <td>48.4 °F</td>\n",
       "    </tr>\n",
       "    <tr>\n",
       "      <th>2</th>\n",
       "      <td>9/3/2022</td>\n",
       "      <td>88.9 °F</td>\n",
       "      <td>70.5 °F</td>\n",
       "      <td>52.3 °F</td>\n",
       "    </tr>\n",
       "    <tr>\n",
       "      <th>3</th>\n",
       "      <td>9/4/2022</td>\n",
       "      <td>91.4 °F</td>\n",
       "      <td>76.6 °F</td>\n",
       "      <td>56.1 °F</td>\n",
       "    </tr>\n",
       "    <tr>\n",
       "      <th>4</th>\n",
       "      <td>9/5/2022</td>\n",
       "      <td>98.1 °F</td>\n",
       "      <td>70.4 °F</td>\n",
       "      <td>62.8 °F</td>\n",
       "    </tr>\n",
       "  </tbody>\n",
       "</table>\n",
       "</div>"
      ],
      "text/plain": [
       "       date     high      avg      low\n",
       "0  9/1/2022  80.4 °F  65.8 °F  52.0 °F\n",
       "1  9/2/2022  85.8 °F  64.6 °F  48.4 °F\n",
       "2  9/3/2022  88.9 °F  70.5 °F  52.3 °F\n",
       "3  9/4/2022  91.4 °F  76.6 °F  56.1 °F\n",
       "4  9/5/2022  98.1 °F  70.4 °F  62.8 °F"
      ]
     },
     "execution_count": 46,
     "metadata": {},
     "output_type": "execute_result"
    }
   ],
   "source": [
    "df.head()"
   ]
  },
  {
   "cell_type": "code",
   "execution_count": 47,
   "id": "dd7c376b",
   "metadata": {},
   "outputs": [],
   "source": [
    "df.high = df.high.str.replace('°F','').astype(float)\n",
    "df.avg = df.avg.str.replace('°F','').astype(float)\n",
    "df.low = df.low.str.replace('°F','').astype(float)\n",
    "df['date'] = pd.to_datetime(df.date, format='%m/%d/%Y', errors='coerce')"
   ]
  },
  {
   "cell_type": "code",
   "execution_count": 48,
   "id": "4a0984cd",
   "metadata": {},
   "outputs": [
    {
     "data": {
      "text/html": [
       "<div>\n",
       "<style scoped>\n",
       "    .dataframe tbody tr th:only-of-type {\n",
       "        vertical-align: middle;\n",
       "    }\n",
       "\n",
       "    .dataframe tbody tr th {\n",
       "        vertical-align: top;\n",
       "    }\n",
       "\n",
       "    .dataframe thead th {\n",
       "        text-align: right;\n",
       "    }\n",
       "</style>\n",
       "<table border=\"1\" class=\"dataframe\">\n",
       "  <thead>\n",
       "    <tr style=\"text-align: right;\">\n",
       "      <th></th>\n",
       "      <th>date</th>\n",
       "      <th>high</th>\n",
       "      <th>avg</th>\n",
       "      <th>low</th>\n",
       "    </tr>\n",
       "  </thead>\n",
       "  <tbody>\n",
       "    <tr>\n",
       "      <th>0</th>\n",
       "      <td>2022-09-01</td>\n",
       "      <td>80.4</td>\n",
       "      <td>65.8</td>\n",
       "      <td>52.0</td>\n",
       "    </tr>\n",
       "    <tr>\n",
       "      <th>1</th>\n",
       "      <td>2022-09-02</td>\n",
       "      <td>85.8</td>\n",
       "      <td>64.6</td>\n",
       "      <td>48.4</td>\n",
       "    </tr>\n",
       "    <tr>\n",
       "      <th>2</th>\n",
       "      <td>2022-09-03</td>\n",
       "      <td>88.9</td>\n",
       "      <td>70.5</td>\n",
       "      <td>52.3</td>\n",
       "    </tr>\n",
       "    <tr>\n",
       "      <th>3</th>\n",
       "      <td>2022-09-04</td>\n",
       "      <td>91.4</td>\n",
       "      <td>76.6</td>\n",
       "      <td>56.1</td>\n",
       "    </tr>\n",
       "    <tr>\n",
       "      <th>4</th>\n",
       "      <td>2022-09-05</td>\n",
       "      <td>98.1</td>\n",
       "      <td>70.4</td>\n",
       "      <td>62.8</td>\n",
       "    </tr>\n",
       "  </tbody>\n",
       "</table>\n",
       "</div>"
      ],
      "text/plain": [
       "        date  high   avg   low\n",
       "0 2022-09-01  80.4  65.8  52.0\n",
       "1 2022-09-02  85.8  64.6  48.4\n",
       "2 2022-09-03  88.9  70.5  52.3\n",
       "3 2022-09-04  91.4  76.6  56.1\n",
       "4 2022-09-05  98.1  70.4  62.8"
      ]
     },
     "execution_count": 48,
     "metadata": {},
     "output_type": "execute_result"
    }
   ],
   "source": [
    "df.head()"
   ]
  },
  {
   "cell_type": "code",
   "execution_count": 49,
   "id": "9fbf50fe",
   "metadata": {},
   "outputs": [],
   "source": [
    "df.to_csv('clean_mission_data.csv',index=False)"
   ]
  },
  {
   "cell_type": "code",
   "execution_count": null,
   "id": "e244d764",
   "metadata": {},
   "outputs": [],
   "source": [
    "df_avg = df[['date','avg']]\n",
    "df_avg['year'] = df_avg.date.dt.year\n",
    "df_avg['day'] = df_avg.date.dt.day\n",
    "mission_avg = pd.pivot(df_avg, index='day', columns='year', values='avg').reset_index()\n",
    "mission_avg.to_csv('clean_mission_avg.csv',index=False)"
   ]
  },
  {
   "cell_type": "markdown",
   "id": "a523123e",
   "metadata": {},
   "source": [
    "## Last week data"
   ]
  },
  {
   "cell_type": "code",
   "execution_count": 50,
   "id": "238269cf",
   "metadata": {},
   "outputs": [
    {
     "data": {
      "text/html": [
       "<div>\n",
       "<style scoped>\n",
       "    .dataframe tbody tr th:only-of-type {\n",
       "        vertical-align: middle;\n",
       "    }\n",
       "\n",
       "    .dataframe tbody tr th {\n",
       "        vertical-align: top;\n",
       "    }\n",
       "\n",
       "    .dataframe thead th {\n",
       "        text-align: right;\n",
       "    }\n",
       "</style>\n",
       "<table border=\"1\" class=\"dataframe\">\n",
       "  <thead>\n",
       "    <tr style=\"text-align: right;\">\n",
       "      <th></th>\n",
       "      <th>date</th>\n",
       "      <th>max</th>\n",
       "      <th>min</th>\n",
       "    </tr>\n",
       "  </thead>\n",
       "  <tbody>\n",
       "    <tr>\n",
       "      <th>0</th>\n",
       "      <td>2022-09-01</td>\n",
       "      <td>66</td>\n",
       "      <td>54</td>\n",
       "    </tr>\n",
       "    <tr>\n",
       "      <th>1</th>\n",
       "      <td>2022-09-02</td>\n",
       "      <td>68</td>\n",
       "      <td>54</td>\n",
       "    </tr>\n",
       "    <tr>\n",
       "      <th>2</th>\n",
       "      <td>2022-09-03</td>\n",
       "      <td>75</td>\n",
       "      <td>57</td>\n",
       "    </tr>\n",
       "    <tr>\n",
       "      <th>3</th>\n",
       "      <td>2022-09-04</td>\n",
       "      <td>82</td>\n",
       "      <td>57</td>\n",
       "    </tr>\n",
       "    <tr>\n",
       "      <th>4</th>\n",
       "      <td>2022-09-05</td>\n",
       "      <td>91</td>\n",
       "      <td>61</td>\n",
       "    </tr>\n",
       "    <tr>\n",
       "      <th>5</th>\n",
       "      <td>2022-09-06</td>\n",
       "      <td>98</td>\n",
       "      <td>64</td>\n",
       "    </tr>\n",
       "    <tr>\n",
       "      <th>6</th>\n",
       "      <td>2022-09-07</td>\n",
       "      <td>81</td>\n",
       "      <td>62</td>\n",
       "    </tr>\n",
       "    <tr>\n",
       "      <th>7</th>\n",
       "      <td>2022-09-08</td>\n",
       "      <td>87</td>\n",
       "      <td>62</td>\n",
       "    </tr>\n",
       "    <tr>\n",
       "      <th>8</th>\n",
       "      <td>2022-09-09</td>\n",
       "      <td>71</td>\n",
       "      <td>57</td>\n",
       "    </tr>\n",
       "    <tr>\n",
       "      <th>9</th>\n",
       "      <td>2022-09-10</td>\n",
       "      <td>68</td>\n",
       "      <td>59</td>\n",
       "    </tr>\n",
       "    <tr>\n",
       "      <th>10</th>\n",
       "      <td>2022-09-11</td>\n",
       "      <td>69</td>\n",
       "      <td>61</td>\n",
       "    </tr>\n",
       "  </tbody>\n",
       "</table>\n",
       "</div>"
      ],
      "text/plain": [
       "          date  max  min\n",
       "0   2022-09-01   66   54\n",
       "1   2022-09-02   68   54\n",
       "2   2022-09-03   75   57\n",
       "3   2022-09-04   82   57\n",
       "4   2022-09-05   91   61\n",
       "5   2022-09-06   98   64\n",
       "6   2022-09-07   81   62\n",
       "7   2022-09-08   87   62\n",
       "8   2022-09-09   71   57\n",
       "9   2022-09-10   68   59\n",
       "10  2022-09-11   69   61"
      ]
     },
     "execution_count": 50,
     "metadata": {},
     "output_type": "execute_result"
    }
   ],
   "source": [
    "df2022"
   ]
  },
  {
   "cell_type": "code",
   "execution_count": 51,
   "id": "f8d96ea2",
   "metadata": {},
   "outputs": [],
   "source": [
    "df2022.to_csv('clean_sf_temp.csv',index=False)"
   ]
  },
  {
   "cell_type": "markdown",
   "id": "7b43c53e",
   "metadata": {},
   "source": [
    "## Temp all year round"
   ]
  },
  {
   "cell_type": "markdown",
   "id": "fd095dab",
   "metadata": {},
   "source": [
    "Data generated by [SC ACIS](https://scacis.rcc-acis.org/)."
   ]
  },
  {
   "cell_type": "code",
   "execution_count": 61,
   "id": "50735982",
   "metadata": {},
   "outputs": [],
   "source": [
    "df = pd.read_csv(\"data/year-month-sf-temp.csv\")"
   ]
  },
  {
   "cell_type": "code",
   "execution_count": 62,
   "id": "15e96051",
   "metadata": {},
   "outputs": [],
   "source": [
    "df[\"year\"] = pd.to_numeric(df[\"year\"])"
   ]
  },
  {
   "cell_type": "code",
   "execution_count": 64,
   "id": "3b4a8c7f",
   "metadata": {},
   "outputs": [],
   "source": [
    "df['category'] = 'after'\n",
    "df.loc[df['year'] < 1980, 'category'] = 'before'"
   ]
  },
  {
   "cell_type": "code",
   "execution_count": 65,
   "id": "c0164700",
   "metadata": {},
   "outputs": [
    {
     "data": {
      "text/html": [
       "<div>\n",
       "<style scoped>\n",
       "    .dataframe tbody tr th:only-of-type {\n",
       "        vertical-align: middle;\n",
       "    }\n",
       "\n",
       "    .dataframe tbody tr th {\n",
       "        vertical-align: top;\n",
       "    }\n",
       "\n",
       "    .dataframe thead th {\n",
       "        text-align: right;\n",
       "    }\n",
       "</style>\n",
       "<table border=\"1\" class=\"dataframe\">\n",
       "  <thead>\n",
       "    <tr style=\"text-align: right;\">\n",
       "      <th></th>\n",
       "      <th>year</th>\n",
       "      <th>jan</th>\n",
       "      <th>feb</th>\n",
       "      <th>march</th>\n",
       "      <th>april</th>\n",
       "      <th>may</th>\n",
       "      <th>june</th>\n",
       "      <th>july</th>\n",
       "      <th>aug</th>\n",
       "      <th>sept</th>\n",
       "      <th>oct</th>\n",
       "      <th>nov</th>\n",
       "      <th>dec</th>\n",
       "      <th>category</th>\n",
       "    </tr>\n",
       "  </thead>\n",
       "  <tbody>\n",
       "    <tr>\n",
       "      <th>0</th>\n",
       "      <td>1921</td>\n",
       "      <td>61</td>\n",
       "      <td>69</td>\n",
       "      <td>73</td>\n",
       "      <td>86</td>\n",
       "      <td>71</td>\n",
       "      <td>90</td>\n",
       "      <td>94</td>\n",
       "      <td>77</td>\n",
       "      <td>93</td>\n",
       "      <td>85</td>\n",
       "      <td>79</td>\n",
       "      <td>66</td>\n",
       "      <td>before</td>\n",
       "    </tr>\n",
       "    <tr>\n",
       "      <th>1</th>\n",
       "      <td>1922</td>\n",
       "      <td>61</td>\n",
       "      <td>63</td>\n",
       "      <td>69</td>\n",
       "      <td>75</td>\n",
       "      <td>87</td>\n",
       "      <td>84</td>\n",
       "      <td>74</td>\n",
       "      <td>81</td>\n",
       "      <td>91</td>\n",
       "      <td>81</td>\n",
       "      <td>65</td>\n",
       "      <td>61</td>\n",
       "      <td>before</td>\n",
       "    </tr>\n",
       "    <tr>\n",
       "      <th>2</th>\n",
       "      <td>1923</td>\n",
       "      <td>58</td>\n",
       "      <td>73</td>\n",
       "      <td>84</td>\n",
       "      <td>79</td>\n",
       "      <td>81</td>\n",
       "      <td>69</td>\n",
       "      <td>82</td>\n",
       "      <td>83</td>\n",
       "      <td>87</td>\n",
       "      <td>86</td>\n",
       "      <td>78</td>\n",
       "      <td>65</td>\n",
       "      <td>before</td>\n",
       "    </tr>\n",
       "    <tr>\n",
       "      <th>3</th>\n",
       "      <td>1924</td>\n",
       "      <td>65</td>\n",
       "      <td>73</td>\n",
       "      <td>72</td>\n",
       "      <td>86</td>\n",
       "      <td>88</td>\n",
       "      <td>87</td>\n",
       "      <td>70</td>\n",
       "      <td>71</td>\n",
       "      <td>88</td>\n",
       "      <td>83</td>\n",
       "      <td>73</td>\n",
       "      <td>62</td>\n",
       "      <td>before</td>\n",
       "    </tr>\n",
       "    <tr>\n",
       "      <th>4</th>\n",
       "      <td>1925</td>\n",
       "      <td>66</td>\n",
       "      <td>72</td>\n",
       "      <td>79</td>\n",
       "      <td>77</td>\n",
       "      <td>83</td>\n",
       "      <td>95</td>\n",
       "      <td>79</td>\n",
       "      <td>84</td>\n",
       "      <td>81</td>\n",
       "      <td>85</td>\n",
       "      <td>66</td>\n",
       "      <td>70</td>\n",
       "      <td>before</td>\n",
       "    </tr>\n",
       "  </tbody>\n",
       "</table>\n",
       "</div>"
      ],
      "text/plain": [
       "   year  jan  feb  march  april  may  june  july  aug  sept  oct  nov  dec  \\\n",
       "0  1921   61   69     73     86   71    90    94   77    93   85   79   66   \n",
       "1  1922   61   63     69     75   87    84    74   81    91   81   65   61   \n",
       "2  1923   58   73     84     79   81    69    82   83    87   86   78   65   \n",
       "3  1924   65   73     72     86   88    87    70   71    88   83   73   62   \n",
       "4  1925   66   72     79     77   83    95    79   84    81   85   66   70   \n",
       "\n",
       "  category  \n",
       "0   before  \n",
       "1   before  \n",
       "2   before  \n",
       "3   before  \n",
       "4   before  "
      ]
     },
     "execution_count": 65,
     "metadata": {},
     "output_type": "execute_result"
    }
   ],
   "source": [
    "df.head()"
   ]
  },
  {
   "cell_type": "code",
   "execution_count": 66,
   "id": "256c2219",
   "metadata": {},
   "outputs": [
    {
     "data": {
      "text/html": [
       "<div>\n",
       "<style scoped>\n",
       "    .dataframe tbody tr th:only-of-type {\n",
       "        vertical-align: middle;\n",
       "    }\n",
       "\n",
       "    .dataframe tbody tr th {\n",
       "        vertical-align: top;\n",
       "    }\n",
       "\n",
       "    .dataframe thead th {\n",
       "        text-align: right;\n",
       "    }\n",
       "</style>\n",
       "<table border=\"1\" class=\"dataframe\">\n",
       "  <thead>\n",
       "    <tr style=\"text-align: right;\">\n",
       "      <th></th>\n",
       "      <th>year</th>\n",
       "      <th>jan</th>\n",
       "      <th>feb</th>\n",
       "      <th>march</th>\n",
       "      <th>april</th>\n",
       "      <th>may</th>\n",
       "      <th>june</th>\n",
       "      <th>july</th>\n",
       "      <th>aug</th>\n",
       "      <th>sept</th>\n",
       "      <th>oct</th>\n",
       "      <th>nov</th>\n",
       "      <th>dec</th>\n",
       "    </tr>\n",
       "    <tr>\n",
       "      <th>category</th>\n",
       "      <th></th>\n",
       "      <th></th>\n",
       "      <th></th>\n",
       "      <th></th>\n",
       "      <th></th>\n",
       "      <th></th>\n",
       "      <th></th>\n",
       "      <th></th>\n",
       "      <th></th>\n",
       "      <th></th>\n",
       "      <th></th>\n",
       "      <th></th>\n",
       "      <th></th>\n",
       "    </tr>\n",
       "  </thead>\n",
       "  <tbody>\n",
       "    <tr>\n",
       "      <th>after</th>\n",
       "      <td>2000.5</td>\n",
       "      <td>67.428571</td>\n",
       "      <td>72.476190</td>\n",
       "      <td>75.857143</td>\n",
       "      <td>81.833333</td>\n",
       "      <td>81.809524</td>\n",
       "      <td>85.214286</td>\n",
       "      <td>81.428571</td>\n",
       "      <td>83.690476</td>\n",
       "      <td>89.738095</td>\n",
       "      <td>88.190476</td>\n",
       "      <td>75.714286</td>\n",
       "      <td>66.690476</td>\n",
       "    </tr>\n",
       "    <tr>\n",
       "      <th>before</th>\n",
       "      <td>1950.0</td>\n",
       "      <td>64.898305</td>\n",
       "      <td>69.084746</td>\n",
       "      <td>74.525424</td>\n",
       "      <td>76.898305</td>\n",
       "      <td>80.949153</td>\n",
       "      <td>82.084746</td>\n",
       "      <td>78.101695</td>\n",
       "      <td>79.491525</td>\n",
       "      <td>88.525424</td>\n",
       "      <td>84.796610</td>\n",
       "      <td>75.237288</td>\n",
       "      <td>66.135593</td>\n",
       "    </tr>\n",
       "  </tbody>\n",
       "</table>\n",
       "</div>"
      ],
      "text/plain": [
       "            year        jan        feb      march      april        may  \\\n",
       "category                                                                  \n",
       "after     2000.5  67.428571  72.476190  75.857143  81.833333  81.809524   \n",
       "before    1950.0  64.898305  69.084746  74.525424  76.898305  80.949153   \n",
       "\n",
       "               june       july        aug       sept        oct        nov  \\\n",
       "category                                                                     \n",
       "after     85.214286  81.428571  83.690476  89.738095  88.190476  75.714286   \n",
       "before    82.084746  78.101695  79.491525  88.525424  84.796610  75.237288   \n",
       "\n",
       "                dec  \n",
       "category             \n",
       "after     66.690476  \n",
       "before    66.135593  "
      ]
     },
     "execution_count": 66,
     "metadata": {},
     "output_type": "execute_result"
    }
   ],
   "source": [
    "df.groupby(by='category').mean()"
   ]
  },
  {
   "cell_type": "code",
   "execution_count": 67,
   "id": "54e97c5d",
   "metadata": {},
   "outputs": [],
   "source": [
    "df = pd.melt(df, id_vars=['year'], value_vars=['jan','feb','march','april','may','june','july','aug','sept','oct','nov','dec'], var_name='month')"
   ]
  },
  {
   "cell_type": "code",
   "execution_count": 68,
   "id": "e21c8b1d",
   "metadata": {},
   "outputs": [
    {
     "data": {
      "text/html": [
       "<div>\n",
       "<style scoped>\n",
       "    .dataframe tbody tr th:only-of-type {\n",
       "        vertical-align: middle;\n",
       "    }\n",
       "\n",
       "    .dataframe tbody tr th {\n",
       "        vertical-align: top;\n",
       "    }\n",
       "\n",
       "    .dataframe thead th {\n",
       "        text-align: right;\n",
       "    }\n",
       "</style>\n",
       "<table border=\"1\" class=\"dataframe\">\n",
       "  <thead>\n",
       "    <tr style=\"text-align: right;\">\n",
       "      <th></th>\n",
       "      <th>year</th>\n",
       "      <th>month</th>\n",
       "      <th>value</th>\n",
       "    </tr>\n",
       "  </thead>\n",
       "  <tbody>\n",
       "    <tr>\n",
       "      <th>0</th>\n",
       "      <td>1921</td>\n",
       "      <td>jan</td>\n",
       "      <td>61</td>\n",
       "    </tr>\n",
       "    <tr>\n",
       "      <th>1</th>\n",
       "      <td>1922</td>\n",
       "      <td>jan</td>\n",
       "      <td>61</td>\n",
       "    </tr>\n",
       "    <tr>\n",
       "      <th>2</th>\n",
       "      <td>1923</td>\n",
       "      <td>jan</td>\n",
       "      <td>58</td>\n",
       "    </tr>\n",
       "    <tr>\n",
       "      <th>3</th>\n",
       "      <td>1924</td>\n",
       "      <td>jan</td>\n",
       "      <td>65</td>\n",
       "    </tr>\n",
       "    <tr>\n",
       "      <th>4</th>\n",
       "      <td>1925</td>\n",
       "      <td>jan</td>\n",
       "      <td>66</td>\n",
       "    </tr>\n",
       "  </tbody>\n",
       "</table>\n",
       "</div>"
      ],
      "text/plain": [
       "   year month  value\n",
       "0  1921   jan     61\n",
       "1  1922   jan     61\n",
       "2  1923   jan     58\n",
       "3  1924   jan     65\n",
       "4  1925   jan     66"
      ]
     },
     "execution_count": 68,
     "metadata": {},
     "output_type": "execute_result"
    }
   ],
   "source": [
    "df.head()"
   ]
  }
 ],
 "metadata": {
  "kernelspec": {
   "display_name": "Python 3 (ipykernel)",
   "language": "python",
   "name": "python3"
  },
  "language_info": {
   "codemirror_mode": {
    "name": "ipython",
    "version": 3
   },
   "file_extension": ".py",
   "mimetype": "text/x-python",
   "name": "python",
   "nbconvert_exporter": "python",
   "pygments_lexer": "ipython3",
   "version": "3.9.7"
  }
 },
 "nbformat": 4,
 "nbformat_minor": 5
}
